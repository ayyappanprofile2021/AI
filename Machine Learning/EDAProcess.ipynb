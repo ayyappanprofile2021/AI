{
 "cells": [
  {
   "cell_type": "code",
   "execution_count": 158,
   "id": "ac42efe4-240b-4313-8dcf-321bded85736",
   "metadata": {},
   "outputs": [],
   "source": [
    "#Import the packages.\n",
    "import pandas as pd\n",
    "import numpy as np\n",
    "import matplotlib.pyplot as plt\n",
    "import seaborn as sns\n",
    "%matplotlib inline\n",
    "import time\n",
    "import warnings\n",
    "warnings.filterwarnings('ignore')\n",
    "import re"
   ]
  },
  {
   "cell_type": "code",
   "execution_count": null,
   "id": "27e25362-880d-4e40-b513-43b14c001498",
   "metadata": {},
   "outputs": [],
   "source": []
  },
  {
   "cell_type": "code",
   "execution_count": null,
   "id": "c2fa29d0-6411-4172-a9a3-d6a7a712e8a9",
   "metadata": {},
   "outputs": [],
   "source": []
  },
  {
   "cell_type": "code",
   "execution_count": null,
   "id": "af3437bf-f30d-4d20-99db-0bbd930a01f6",
   "metadata": {},
   "outputs": [],
   "source": [
    "start_time = time.time()"
   ]
  },
  {
   "cell_type": "code",
   "execution_count": 4,
   "id": "8b55f1f2-d775-4784-9a61-4af6abf80c2d",
   "metadata": {},
   "outputs": [],
   "source": [
    "#Load the dataset.\n",
    "marketing = pd.read_csv('bank_marketing_updated_v1.csv',skiprows=2)\n"
   ]
  },
  {
   "cell_type": "code",
   "execution_count": 5,
   "id": "ced185fa-4da6-4312-a7b1-7ad1d9d8dae4",
   "metadata": {},
   "outputs": [
    {
     "data": {
      "text/html": [
       "<div>\n",
       "<style scoped>\n",
       "    .dataframe tbody tr th:only-of-type {\n",
       "        vertical-align: middle;\n",
       "    }\n",
       "\n",
       "    .dataframe tbody tr th {\n",
       "        vertical-align: top;\n",
       "    }\n",
       "\n",
       "    .dataframe thead th {\n",
       "        text-align: right;\n",
       "    }\n",
       "</style>\n",
       "<table border=\"1\" class=\"dataframe\">\n",
       "  <thead>\n",
       "    <tr style=\"text-align: right;\">\n",
       "      <th></th>\n",
       "      <th>customerid</th>\n",
       "      <th>age</th>\n",
       "      <th>salary</th>\n",
       "      <th>balance</th>\n",
       "      <th>marital</th>\n",
       "      <th>jobedu</th>\n",
       "      <th>targeted</th>\n",
       "      <th>default</th>\n",
       "      <th>housing</th>\n",
       "      <th>loan</th>\n",
       "      <th>contact</th>\n",
       "      <th>day</th>\n",
       "      <th>month</th>\n",
       "      <th>duration</th>\n",
       "      <th>campaign</th>\n",
       "      <th>pdays</th>\n",
       "      <th>previous</th>\n",
       "      <th>poutcome</th>\n",
       "      <th>response</th>\n",
       "    </tr>\n",
       "  </thead>\n",
       "  <tbody>\n",
       "    <tr>\n",
       "      <th>0</th>\n",
       "      <td>1</td>\n",
       "      <td>58.0</td>\n",
       "      <td>100000</td>\n",
       "      <td>2143</td>\n",
       "      <td>married</td>\n",
       "      <td>management,tertiary</td>\n",
       "      <td>yes</td>\n",
       "      <td>no</td>\n",
       "      <td>yes</td>\n",
       "      <td>no</td>\n",
       "      <td>unknown</td>\n",
       "      <td>5</td>\n",
       "      <td>may, 2017</td>\n",
       "      <td>261 sec</td>\n",
       "      <td>1</td>\n",
       "      <td>-1</td>\n",
       "      <td>0</td>\n",
       "      <td>unknown</td>\n",
       "      <td>no</td>\n",
       "    </tr>\n",
       "    <tr>\n",
       "      <th>1</th>\n",
       "      <td>2</td>\n",
       "      <td>44.0</td>\n",
       "      <td>60000</td>\n",
       "      <td>29</td>\n",
       "      <td>single</td>\n",
       "      <td>technician,secondary</td>\n",
       "      <td>yes</td>\n",
       "      <td>no</td>\n",
       "      <td>yes</td>\n",
       "      <td>no</td>\n",
       "      <td>unknown</td>\n",
       "      <td>5</td>\n",
       "      <td>may, 2017</td>\n",
       "      <td>151 sec</td>\n",
       "      <td>1</td>\n",
       "      <td>-1</td>\n",
       "      <td>0</td>\n",
       "      <td>unknown</td>\n",
       "      <td>no</td>\n",
       "    </tr>\n",
       "    <tr>\n",
       "      <th>2</th>\n",
       "      <td>3</td>\n",
       "      <td>33.0</td>\n",
       "      <td>120000</td>\n",
       "      <td>2</td>\n",
       "      <td>married</td>\n",
       "      <td>entrepreneur,secondary</td>\n",
       "      <td>yes</td>\n",
       "      <td>no</td>\n",
       "      <td>yes</td>\n",
       "      <td>yes</td>\n",
       "      <td>unknown</td>\n",
       "      <td>5</td>\n",
       "      <td>may, 2017</td>\n",
       "      <td>76 sec</td>\n",
       "      <td>1</td>\n",
       "      <td>-1</td>\n",
       "      <td>0</td>\n",
       "      <td>unknown</td>\n",
       "      <td>no</td>\n",
       "    </tr>\n",
       "    <tr>\n",
       "      <th>3</th>\n",
       "      <td>4</td>\n",
       "      <td>47.0</td>\n",
       "      <td>20000</td>\n",
       "      <td>1506</td>\n",
       "      <td>married</td>\n",
       "      <td>blue-collar,unknown</td>\n",
       "      <td>no</td>\n",
       "      <td>no</td>\n",
       "      <td>yes</td>\n",
       "      <td>no</td>\n",
       "      <td>unknown</td>\n",
       "      <td>5</td>\n",
       "      <td>may, 2017</td>\n",
       "      <td>92 sec</td>\n",
       "      <td>1</td>\n",
       "      <td>-1</td>\n",
       "      <td>0</td>\n",
       "      <td>unknown</td>\n",
       "      <td>no</td>\n",
       "    </tr>\n",
       "    <tr>\n",
       "      <th>4</th>\n",
       "      <td>5</td>\n",
       "      <td>33.0</td>\n",
       "      <td>0</td>\n",
       "      <td>1</td>\n",
       "      <td>single</td>\n",
       "      <td>unknown,unknown</td>\n",
       "      <td>no</td>\n",
       "      <td>no</td>\n",
       "      <td>no</td>\n",
       "      <td>no</td>\n",
       "      <td>unknown</td>\n",
       "      <td>5</td>\n",
       "      <td>may, 2017</td>\n",
       "      <td>198 sec</td>\n",
       "      <td>1</td>\n",
       "      <td>-1</td>\n",
       "      <td>0</td>\n",
       "      <td>unknown</td>\n",
       "      <td>no</td>\n",
       "    </tr>\n",
       "    <tr>\n",
       "      <th>...</th>\n",
       "      <td>...</td>\n",
       "      <td>...</td>\n",
       "      <td>...</td>\n",
       "      <td>...</td>\n",
       "      <td>...</td>\n",
       "      <td>...</td>\n",
       "      <td>...</td>\n",
       "      <td>...</td>\n",
       "      <td>...</td>\n",
       "      <td>...</td>\n",
       "      <td>...</td>\n",
       "      <td>...</td>\n",
       "      <td>...</td>\n",
       "      <td>...</td>\n",
       "      <td>...</td>\n",
       "      <td>...</td>\n",
       "      <td>...</td>\n",
       "      <td>...</td>\n",
       "      <td>...</td>\n",
       "    </tr>\n",
       "    <tr>\n",
       "      <th>45206</th>\n",
       "      <td>45207</td>\n",
       "      <td>51.0</td>\n",
       "      <td>60000</td>\n",
       "      <td>825</td>\n",
       "      <td>married</td>\n",
       "      <td>technician,tertiary</td>\n",
       "      <td>yes</td>\n",
       "      <td>no</td>\n",
       "      <td>no</td>\n",
       "      <td>no</td>\n",
       "      <td>cellular</td>\n",
       "      <td>17</td>\n",
       "      <td>nov, 2017</td>\n",
       "      <td>16.2833333333333 min</td>\n",
       "      <td>3</td>\n",
       "      <td>-1</td>\n",
       "      <td>0</td>\n",
       "      <td>unknown</td>\n",
       "      <td>yes</td>\n",
       "    </tr>\n",
       "    <tr>\n",
       "      <th>45207</th>\n",
       "      <td>45208</td>\n",
       "      <td>71.0</td>\n",
       "      <td>55000</td>\n",
       "      <td>1729</td>\n",
       "      <td>divorced</td>\n",
       "      <td>retired,primary</td>\n",
       "      <td>yes</td>\n",
       "      <td>no</td>\n",
       "      <td>no</td>\n",
       "      <td>no</td>\n",
       "      <td>cellular</td>\n",
       "      <td>17</td>\n",
       "      <td>nov, 2017</td>\n",
       "      <td>7.6 min</td>\n",
       "      <td>2</td>\n",
       "      <td>-1</td>\n",
       "      <td>0</td>\n",
       "      <td>unknown</td>\n",
       "      <td>yes</td>\n",
       "    </tr>\n",
       "    <tr>\n",
       "      <th>45208</th>\n",
       "      <td>45209</td>\n",
       "      <td>72.0</td>\n",
       "      <td>55000</td>\n",
       "      <td>5715</td>\n",
       "      <td>married</td>\n",
       "      <td>retired,secondary</td>\n",
       "      <td>yes</td>\n",
       "      <td>no</td>\n",
       "      <td>no</td>\n",
       "      <td>no</td>\n",
       "      <td>cellular</td>\n",
       "      <td>17</td>\n",
       "      <td>nov, 2017</td>\n",
       "      <td>18.7833333333333 min</td>\n",
       "      <td>5</td>\n",
       "      <td>184</td>\n",
       "      <td>3</td>\n",
       "      <td>success</td>\n",
       "      <td>yes</td>\n",
       "    </tr>\n",
       "    <tr>\n",
       "      <th>45209</th>\n",
       "      <td>45210</td>\n",
       "      <td>57.0</td>\n",
       "      <td>20000</td>\n",
       "      <td>668</td>\n",
       "      <td>married</td>\n",
       "      <td>blue-collar,secondary</td>\n",
       "      <td>yes</td>\n",
       "      <td>no</td>\n",
       "      <td>no</td>\n",
       "      <td>no</td>\n",
       "      <td>telephone</td>\n",
       "      <td>17</td>\n",
       "      <td>nov, 2017</td>\n",
       "      <td>8.46666666666667 min</td>\n",
       "      <td>4</td>\n",
       "      <td>-1</td>\n",
       "      <td>0</td>\n",
       "      <td>unknown</td>\n",
       "      <td>no</td>\n",
       "    </tr>\n",
       "    <tr>\n",
       "      <th>45210</th>\n",
       "      <td>45211</td>\n",
       "      <td>37.0</td>\n",
       "      <td>120000</td>\n",
       "      <td>2971</td>\n",
       "      <td>married</td>\n",
       "      <td>entrepreneur,secondary</td>\n",
       "      <td>yes</td>\n",
       "      <td>no</td>\n",
       "      <td>no</td>\n",
       "      <td>no</td>\n",
       "      <td>cellular</td>\n",
       "      <td>17</td>\n",
       "      <td>nov, 2017</td>\n",
       "      <td>6.01666666666667 min</td>\n",
       "      <td>2</td>\n",
       "      <td>188</td>\n",
       "      <td>11</td>\n",
       "      <td>other</td>\n",
       "      <td>no</td>\n",
       "    </tr>\n",
       "  </tbody>\n",
       "</table>\n",
       "<p>45211 rows × 19 columns</p>\n",
       "</div>"
      ],
      "text/plain": [
       "       customerid   age  salary  balance   marital                  jobedu  \\\n",
       "0               1  58.0  100000     2143   married     management,tertiary   \n",
       "1               2  44.0   60000       29    single    technician,secondary   \n",
       "2               3  33.0  120000        2   married  entrepreneur,secondary   \n",
       "3               4  47.0   20000     1506   married     blue-collar,unknown   \n",
       "4               5  33.0       0        1    single         unknown,unknown   \n",
       "...           ...   ...     ...      ...       ...                     ...   \n",
       "45206       45207  51.0   60000      825   married     technician,tertiary   \n",
       "45207       45208  71.0   55000     1729  divorced         retired,primary   \n",
       "45208       45209  72.0   55000     5715   married       retired,secondary   \n",
       "45209       45210  57.0   20000      668   married   blue-collar,secondary   \n",
       "45210       45211  37.0  120000     2971   married  entrepreneur,secondary   \n",
       "\n",
       "      targeted default housing loan    contact  day      month  \\\n",
       "0          yes      no     yes   no    unknown    5  may, 2017   \n",
       "1          yes      no     yes   no    unknown    5  may, 2017   \n",
       "2          yes      no     yes  yes    unknown    5  may, 2017   \n",
       "3           no      no     yes   no    unknown    5  may, 2017   \n",
       "4           no      no      no   no    unknown    5  may, 2017   \n",
       "...        ...     ...     ...  ...        ...  ...        ...   \n",
       "45206      yes      no      no   no   cellular   17  nov, 2017   \n",
       "45207      yes      no      no   no   cellular   17  nov, 2017   \n",
       "45208      yes      no      no   no   cellular   17  nov, 2017   \n",
       "45209      yes      no      no   no  telephone   17  nov, 2017   \n",
       "45210      yes      no      no   no   cellular   17  nov, 2017   \n",
       "\n",
       "                   duration  campaign  pdays  previous poutcome response  \n",
       "0                   261 sec         1     -1         0  unknown       no  \n",
       "1                   151 sec         1     -1         0  unknown       no  \n",
       "2                    76 sec         1     -1         0  unknown       no  \n",
       "3                    92 sec         1     -1         0  unknown       no  \n",
       "4                   198 sec         1     -1         0  unknown       no  \n",
       "...                     ...       ...    ...       ...      ...      ...  \n",
       "45206  16.2833333333333 min         3     -1         0  unknown      yes  \n",
       "45207               7.6 min         2     -1         0  unknown      yes  \n",
       "45208  18.7833333333333 min         5    184         3  success      yes  \n",
       "45209  8.46666666666667 min         4     -1         0  unknown       no  \n",
       "45210  6.01666666666667 min         2    188        11    other       no  \n",
       "\n",
       "[45211 rows x 19 columns]"
      ]
     },
     "execution_count": 5,
     "metadata": {},
     "output_type": "execute_result"
    }
   ],
   "source": [
    "marketing"
   ]
  },
  {
   "cell_type": "code",
   "execution_count": 6,
   "id": "b4ff03af-f619-4b04-8ed6-1902d8f75c96",
   "metadata": {},
   "outputs": [
    {
     "data": {
      "text/plain": [
       "customerid      int64\n",
       "age           float64\n",
       "salary          int64\n",
       "balance         int64\n",
       "marital        object\n",
       "jobedu         object\n",
       "targeted       object\n",
       "default        object\n",
       "housing        object\n",
       "loan           object\n",
       "contact        object\n",
       "day             int64\n",
       "month          object\n",
       "duration       object\n",
       "campaign        int64\n",
       "pdays           int64\n",
       "previous        int64\n",
       "poutcome       object\n",
       "response       object\n",
       "dtype: object"
      ]
     },
     "execution_count": 6,
     "metadata": {},
     "output_type": "execute_result"
    }
   ],
   "source": [
    "marketing.dtypes"
   ]
  },
  {
   "cell_type": "code",
   "execution_count": 7,
   "id": "fdbb2528-4ebc-4353-b308-cd4bb8148b37",
   "metadata": {},
   "outputs": [],
   "source": [
    "#Dropping customer id column.\n",
    "marketing.drop(['customerid'], axis=1, inplace=True)"
   ]
  },
  {
   "cell_type": "code",
   "execution_count": 8,
   "id": "71e4b0e0-cdd8-4f0d-b4eb-1d8b1369772d",
   "metadata": {},
   "outputs": [
    {
     "data": {
      "text/html": [
       "<div>\n",
       "<style scoped>\n",
       "    .dataframe tbody tr th:only-of-type {\n",
       "        vertical-align: middle;\n",
       "    }\n",
       "\n",
       "    .dataframe tbody tr th {\n",
       "        vertical-align: top;\n",
       "    }\n",
       "\n",
       "    .dataframe thead th {\n",
       "        text-align: right;\n",
       "    }\n",
       "</style>\n",
       "<table border=\"1\" class=\"dataframe\">\n",
       "  <thead>\n",
       "    <tr style=\"text-align: right;\">\n",
       "      <th></th>\n",
       "      <th>age</th>\n",
       "      <th>salary</th>\n",
       "      <th>balance</th>\n",
       "      <th>marital</th>\n",
       "      <th>jobedu</th>\n",
       "      <th>targeted</th>\n",
       "      <th>default</th>\n",
       "      <th>housing</th>\n",
       "      <th>loan</th>\n",
       "      <th>contact</th>\n",
       "      <th>day</th>\n",
       "      <th>month</th>\n",
       "      <th>duration</th>\n",
       "      <th>campaign</th>\n",
       "      <th>pdays</th>\n",
       "      <th>previous</th>\n",
       "      <th>poutcome</th>\n",
       "      <th>response</th>\n",
       "    </tr>\n",
       "  </thead>\n",
       "  <tbody>\n",
       "    <tr>\n",
       "      <th>0</th>\n",
       "      <td>58.0</td>\n",
       "      <td>100000</td>\n",
       "      <td>2143</td>\n",
       "      <td>married</td>\n",
       "      <td>management,tertiary</td>\n",
       "      <td>yes</td>\n",
       "      <td>no</td>\n",
       "      <td>yes</td>\n",
       "      <td>no</td>\n",
       "      <td>unknown</td>\n",
       "      <td>5</td>\n",
       "      <td>may, 2017</td>\n",
       "      <td>261 sec</td>\n",
       "      <td>1</td>\n",
       "      <td>-1</td>\n",
       "      <td>0</td>\n",
       "      <td>unknown</td>\n",
       "      <td>no</td>\n",
       "    </tr>\n",
       "    <tr>\n",
       "      <th>1</th>\n",
       "      <td>44.0</td>\n",
       "      <td>60000</td>\n",
       "      <td>29</td>\n",
       "      <td>single</td>\n",
       "      <td>technician,secondary</td>\n",
       "      <td>yes</td>\n",
       "      <td>no</td>\n",
       "      <td>yes</td>\n",
       "      <td>no</td>\n",
       "      <td>unknown</td>\n",
       "      <td>5</td>\n",
       "      <td>may, 2017</td>\n",
       "      <td>151 sec</td>\n",
       "      <td>1</td>\n",
       "      <td>-1</td>\n",
       "      <td>0</td>\n",
       "      <td>unknown</td>\n",
       "      <td>no</td>\n",
       "    </tr>\n",
       "    <tr>\n",
       "      <th>2</th>\n",
       "      <td>33.0</td>\n",
       "      <td>120000</td>\n",
       "      <td>2</td>\n",
       "      <td>married</td>\n",
       "      <td>entrepreneur,secondary</td>\n",
       "      <td>yes</td>\n",
       "      <td>no</td>\n",
       "      <td>yes</td>\n",
       "      <td>yes</td>\n",
       "      <td>unknown</td>\n",
       "      <td>5</td>\n",
       "      <td>may, 2017</td>\n",
       "      <td>76 sec</td>\n",
       "      <td>1</td>\n",
       "      <td>-1</td>\n",
       "      <td>0</td>\n",
       "      <td>unknown</td>\n",
       "      <td>no</td>\n",
       "    </tr>\n",
       "    <tr>\n",
       "      <th>3</th>\n",
       "      <td>47.0</td>\n",
       "      <td>20000</td>\n",
       "      <td>1506</td>\n",
       "      <td>married</td>\n",
       "      <td>blue-collar,unknown</td>\n",
       "      <td>no</td>\n",
       "      <td>no</td>\n",
       "      <td>yes</td>\n",
       "      <td>no</td>\n",
       "      <td>unknown</td>\n",
       "      <td>5</td>\n",
       "      <td>may, 2017</td>\n",
       "      <td>92 sec</td>\n",
       "      <td>1</td>\n",
       "      <td>-1</td>\n",
       "      <td>0</td>\n",
       "      <td>unknown</td>\n",
       "      <td>no</td>\n",
       "    </tr>\n",
       "    <tr>\n",
       "      <th>4</th>\n",
       "      <td>33.0</td>\n",
       "      <td>0</td>\n",
       "      <td>1</td>\n",
       "      <td>single</td>\n",
       "      <td>unknown,unknown</td>\n",
       "      <td>no</td>\n",
       "      <td>no</td>\n",
       "      <td>no</td>\n",
       "      <td>no</td>\n",
       "      <td>unknown</td>\n",
       "      <td>5</td>\n",
       "      <td>may, 2017</td>\n",
       "      <td>198 sec</td>\n",
       "      <td>1</td>\n",
       "      <td>-1</td>\n",
       "      <td>0</td>\n",
       "      <td>unknown</td>\n",
       "      <td>no</td>\n",
       "    </tr>\n",
       "  </tbody>\n",
       "</table>\n",
       "</div>"
      ],
      "text/plain": [
       "    age  salary  balance  marital                  jobedu targeted default  \\\n",
       "0  58.0  100000     2143  married     management,tertiary      yes      no   \n",
       "1  44.0   60000       29   single    technician,secondary      yes      no   \n",
       "2  33.0  120000        2  married  entrepreneur,secondary      yes      no   \n",
       "3  47.0   20000     1506  married     blue-collar,unknown       no      no   \n",
       "4  33.0       0        1   single         unknown,unknown       no      no   \n",
       "\n",
       "  housing loan  contact  day      month duration  campaign  pdays  previous  \\\n",
       "0     yes   no  unknown    5  may, 2017  261 sec         1     -1         0   \n",
       "1     yes   no  unknown    5  may, 2017  151 sec         1     -1         0   \n",
       "2     yes  yes  unknown    5  may, 2017   76 sec         1     -1         0   \n",
       "3     yes   no  unknown    5  may, 2017   92 sec         1     -1         0   \n",
       "4      no   no  unknown    5  may, 2017  198 sec         1     -1         0   \n",
       "\n",
       "  poutcome response  \n",
       "0  unknown       no  \n",
       "1  unknown       no  \n",
       "2  unknown       no  \n",
       "3  unknown       no  \n",
       "4  unknown       no  "
      ]
     },
     "execution_count": 8,
     "metadata": {},
     "output_type": "execute_result"
    }
   ],
   "source": [
    "marketing.head()"
   ]
  },
  {
   "cell_type": "code",
   "execution_count": 15,
   "id": "3557a44b-dce5-44fd-87b8-23e9c12afbc4",
   "metadata": {},
   "outputs": [],
   "source": [
    "marketing['job']=marketing.jobedu.str.split(',', expand=True)[0]\n",
    "marketing['education']=marketing.jobedu.str.split(',', expand=True)[1]"
   ]
  },
  {
   "cell_type": "code",
   "execution_count": 17,
   "id": "11d6e59c-7146-4338-9a0d-693a58cf295a",
   "metadata": {},
   "outputs": [],
   "source": [
    "marketing.drop(['jobedu'], axis=1, inplace=True)"
   ]
  },
  {
   "cell_type": "code",
   "execution_count": 18,
   "id": "b42258a2-6468-4bc9-ba4b-3e02aebebaff",
   "metadata": {},
   "outputs": [
    {
     "data": {
      "text/html": [
       "<div>\n",
       "<style scoped>\n",
       "    .dataframe tbody tr th:only-of-type {\n",
       "        vertical-align: middle;\n",
       "    }\n",
       "\n",
       "    .dataframe tbody tr th {\n",
       "        vertical-align: top;\n",
       "    }\n",
       "\n",
       "    .dataframe thead th {\n",
       "        text-align: right;\n",
       "    }\n",
       "</style>\n",
       "<table border=\"1\" class=\"dataframe\">\n",
       "  <thead>\n",
       "    <tr style=\"text-align: right;\">\n",
       "      <th></th>\n",
       "      <th>age</th>\n",
       "      <th>salary</th>\n",
       "      <th>balance</th>\n",
       "      <th>marital</th>\n",
       "      <th>targeted</th>\n",
       "      <th>default</th>\n",
       "      <th>housing</th>\n",
       "      <th>loan</th>\n",
       "      <th>contact</th>\n",
       "      <th>day</th>\n",
       "      <th>month</th>\n",
       "      <th>duration</th>\n",
       "      <th>campaign</th>\n",
       "      <th>pdays</th>\n",
       "      <th>previous</th>\n",
       "      <th>poutcome</th>\n",
       "      <th>response</th>\n",
       "      <th>job</th>\n",
       "      <th>education</th>\n",
       "    </tr>\n",
       "  </thead>\n",
       "  <tbody>\n",
       "    <tr>\n",
       "      <th>0</th>\n",
       "      <td>58.0</td>\n",
       "      <td>100000</td>\n",
       "      <td>2143</td>\n",
       "      <td>married</td>\n",
       "      <td>yes</td>\n",
       "      <td>no</td>\n",
       "      <td>yes</td>\n",
       "      <td>no</td>\n",
       "      <td>unknown</td>\n",
       "      <td>5</td>\n",
       "      <td>may, 2017</td>\n",
       "      <td>261 sec</td>\n",
       "      <td>1</td>\n",
       "      <td>-1</td>\n",
       "      <td>0</td>\n",
       "      <td>unknown</td>\n",
       "      <td>no</td>\n",
       "      <td>management</td>\n",
       "      <td>tertiary</td>\n",
       "    </tr>\n",
       "    <tr>\n",
       "      <th>1</th>\n",
       "      <td>44.0</td>\n",
       "      <td>60000</td>\n",
       "      <td>29</td>\n",
       "      <td>single</td>\n",
       "      <td>yes</td>\n",
       "      <td>no</td>\n",
       "      <td>yes</td>\n",
       "      <td>no</td>\n",
       "      <td>unknown</td>\n",
       "      <td>5</td>\n",
       "      <td>may, 2017</td>\n",
       "      <td>151 sec</td>\n",
       "      <td>1</td>\n",
       "      <td>-1</td>\n",
       "      <td>0</td>\n",
       "      <td>unknown</td>\n",
       "      <td>no</td>\n",
       "      <td>technician</td>\n",
       "      <td>secondary</td>\n",
       "    </tr>\n",
       "    <tr>\n",
       "      <th>2</th>\n",
       "      <td>33.0</td>\n",
       "      <td>120000</td>\n",
       "      <td>2</td>\n",
       "      <td>married</td>\n",
       "      <td>yes</td>\n",
       "      <td>no</td>\n",
       "      <td>yes</td>\n",
       "      <td>yes</td>\n",
       "      <td>unknown</td>\n",
       "      <td>5</td>\n",
       "      <td>may, 2017</td>\n",
       "      <td>76 sec</td>\n",
       "      <td>1</td>\n",
       "      <td>-1</td>\n",
       "      <td>0</td>\n",
       "      <td>unknown</td>\n",
       "      <td>no</td>\n",
       "      <td>entrepreneur</td>\n",
       "      <td>secondary</td>\n",
       "    </tr>\n",
       "    <tr>\n",
       "      <th>3</th>\n",
       "      <td>47.0</td>\n",
       "      <td>20000</td>\n",
       "      <td>1506</td>\n",
       "      <td>married</td>\n",
       "      <td>no</td>\n",
       "      <td>no</td>\n",
       "      <td>yes</td>\n",
       "      <td>no</td>\n",
       "      <td>unknown</td>\n",
       "      <td>5</td>\n",
       "      <td>may, 2017</td>\n",
       "      <td>92 sec</td>\n",
       "      <td>1</td>\n",
       "      <td>-1</td>\n",
       "      <td>0</td>\n",
       "      <td>unknown</td>\n",
       "      <td>no</td>\n",
       "      <td>blue-collar</td>\n",
       "      <td>unknown</td>\n",
       "    </tr>\n",
       "    <tr>\n",
       "      <th>4</th>\n",
       "      <td>33.0</td>\n",
       "      <td>0</td>\n",
       "      <td>1</td>\n",
       "      <td>single</td>\n",
       "      <td>no</td>\n",
       "      <td>no</td>\n",
       "      <td>no</td>\n",
       "      <td>no</td>\n",
       "      <td>unknown</td>\n",
       "      <td>5</td>\n",
       "      <td>may, 2017</td>\n",
       "      <td>198 sec</td>\n",
       "      <td>1</td>\n",
       "      <td>-1</td>\n",
       "      <td>0</td>\n",
       "      <td>unknown</td>\n",
       "      <td>no</td>\n",
       "      <td>unknown</td>\n",
       "      <td>unknown</td>\n",
       "    </tr>\n",
       "    <tr>\n",
       "      <th>...</th>\n",
       "      <td>...</td>\n",
       "      <td>...</td>\n",
       "      <td>...</td>\n",
       "      <td>...</td>\n",
       "      <td>...</td>\n",
       "      <td>...</td>\n",
       "      <td>...</td>\n",
       "      <td>...</td>\n",
       "      <td>...</td>\n",
       "      <td>...</td>\n",
       "      <td>...</td>\n",
       "      <td>...</td>\n",
       "      <td>...</td>\n",
       "      <td>...</td>\n",
       "      <td>...</td>\n",
       "      <td>...</td>\n",
       "      <td>...</td>\n",
       "      <td>...</td>\n",
       "      <td>...</td>\n",
       "    </tr>\n",
       "    <tr>\n",
       "      <th>45206</th>\n",
       "      <td>51.0</td>\n",
       "      <td>60000</td>\n",
       "      <td>825</td>\n",
       "      <td>married</td>\n",
       "      <td>yes</td>\n",
       "      <td>no</td>\n",
       "      <td>no</td>\n",
       "      <td>no</td>\n",
       "      <td>cellular</td>\n",
       "      <td>17</td>\n",
       "      <td>nov, 2017</td>\n",
       "      <td>16.2833333333333 min</td>\n",
       "      <td>3</td>\n",
       "      <td>-1</td>\n",
       "      <td>0</td>\n",
       "      <td>unknown</td>\n",
       "      <td>yes</td>\n",
       "      <td>technician</td>\n",
       "      <td>tertiary</td>\n",
       "    </tr>\n",
       "    <tr>\n",
       "      <th>45207</th>\n",
       "      <td>71.0</td>\n",
       "      <td>55000</td>\n",
       "      <td>1729</td>\n",
       "      <td>divorced</td>\n",
       "      <td>yes</td>\n",
       "      <td>no</td>\n",
       "      <td>no</td>\n",
       "      <td>no</td>\n",
       "      <td>cellular</td>\n",
       "      <td>17</td>\n",
       "      <td>nov, 2017</td>\n",
       "      <td>7.6 min</td>\n",
       "      <td>2</td>\n",
       "      <td>-1</td>\n",
       "      <td>0</td>\n",
       "      <td>unknown</td>\n",
       "      <td>yes</td>\n",
       "      <td>retired</td>\n",
       "      <td>primary</td>\n",
       "    </tr>\n",
       "    <tr>\n",
       "      <th>45208</th>\n",
       "      <td>72.0</td>\n",
       "      <td>55000</td>\n",
       "      <td>5715</td>\n",
       "      <td>married</td>\n",
       "      <td>yes</td>\n",
       "      <td>no</td>\n",
       "      <td>no</td>\n",
       "      <td>no</td>\n",
       "      <td>cellular</td>\n",
       "      <td>17</td>\n",
       "      <td>nov, 2017</td>\n",
       "      <td>18.7833333333333 min</td>\n",
       "      <td>5</td>\n",
       "      <td>184</td>\n",
       "      <td>3</td>\n",
       "      <td>success</td>\n",
       "      <td>yes</td>\n",
       "      <td>retired</td>\n",
       "      <td>secondary</td>\n",
       "    </tr>\n",
       "    <tr>\n",
       "      <th>45209</th>\n",
       "      <td>57.0</td>\n",
       "      <td>20000</td>\n",
       "      <td>668</td>\n",
       "      <td>married</td>\n",
       "      <td>yes</td>\n",
       "      <td>no</td>\n",
       "      <td>no</td>\n",
       "      <td>no</td>\n",
       "      <td>telephone</td>\n",
       "      <td>17</td>\n",
       "      <td>nov, 2017</td>\n",
       "      <td>8.46666666666667 min</td>\n",
       "      <td>4</td>\n",
       "      <td>-1</td>\n",
       "      <td>0</td>\n",
       "      <td>unknown</td>\n",
       "      <td>no</td>\n",
       "      <td>blue-collar</td>\n",
       "      <td>secondary</td>\n",
       "    </tr>\n",
       "    <tr>\n",
       "      <th>45210</th>\n",
       "      <td>37.0</td>\n",
       "      <td>120000</td>\n",
       "      <td>2971</td>\n",
       "      <td>married</td>\n",
       "      <td>yes</td>\n",
       "      <td>no</td>\n",
       "      <td>no</td>\n",
       "      <td>no</td>\n",
       "      <td>cellular</td>\n",
       "      <td>17</td>\n",
       "      <td>nov, 2017</td>\n",
       "      <td>6.01666666666667 min</td>\n",
       "      <td>2</td>\n",
       "      <td>188</td>\n",
       "      <td>11</td>\n",
       "      <td>other</td>\n",
       "      <td>no</td>\n",
       "      <td>entrepreneur</td>\n",
       "      <td>secondary</td>\n",
       "    </tr>\n",
       "  </tbody>\n",
       "</table>\n",
       "<p>45211 rows × 19 columns</p>\n",
       "</div>"
      ],
      "text/plain": [
       "        age  salary  balance   marital targeted default housing loan  \\\n",
       "0      58.0  100000     2143   married      yes      no     yes   no   \n",
       "1      44.0   60000       29    single      yes      no     yes   no   \n",
       "2      33.0  120000        2   married      yes      no     yes  yes   \n",
       "3      47.0   20000     1506   married       no      no     yes   no   \n",
       "4      33.0       0        1    single       no      no      no   no   \n",
       "...     ...     ...      ...       ...      ...     ...     ...  ...   \n",
       "45206  51.0   60000      825   married      yes      no      no   no   \n",
       "45207  71.0   55000     1729  divorced      yes      no      no   no   \n",
       "45208  72.0   55000     5715   married      yes      no      no   no   \n",
       "45209  57.0   20000      668   married      yes      no      no   no   \n",
       "45210  37.0  120000     2971   married      yes      no      no   no   \n",
       "\n",
       "         contact  day      month              duration  campaign  pdays  \\\n",
       "0        unknown    5  may, 2017               261 sec         1     -1   \n",
       "1        unknown    5  may, 2017               151 sec         1     -1   \n",
       "2        unknown    5  may, 2017                76 sec         1     -1   \n",
       "3        unknown    5  may, 2017                92 sec         1     -1   \n",
       "4        unknown    5  may, 2017               198 sec         1     -1   \n",
       "...          ...  ...        ...                   ...       ...    ...   \n",
       "45206   cellular   17  nov, 2017  16.2833333333333 min         3     -1   \n",
       "45207   cellular   17  nov, 2017               7.6 min         2     -1   \n",
       "45208   cellular   17  nov, 2017  18.7833333333333 min         5    184   \n",
       "45209  telephone   17  nov, 2017  8.46666666666667 min         4     -1   \n",
       "45210   cellular   17  nov, 2017  6.01666666666667 min         2    188   \n",
       "\n",
       "       previous poutcome response           job  education  \n",
       "0             0  unknown       no    management   tertiary  \n",
       "1             0  unknown       no    technician  secondary  \n",
       "2             0  unknown       no  entrepreneur  secondary  \n",
       "3             0  unknown       no   blue-collar    unknown  \n",
       "4             0  unknown       no       unknown    unknown  \n",
       "...         ...      ...      ...           ...        ...  \n",
       "45206         0  unknown      yes    technician   tertiary  \n",
       "45207         0  unknown      yes       retired    primary  \n",
       "45208         3  success      yes       retired  secondary  \n",
       "45209         0  unknown       no   blue-collar  secondary  \n",
       "45210        11    other       no  entrepreneur  secondary  \n",
       "\n",
       "[45211 rows x 19 columns]"
      ]
     },
     "execution_count": 18,
     "metadata": {},
     "output_type": "execute_result"
    }
   ],
   "source": [
    "marketing"
   ]
  },
  {
   "cell_type": "code",
   "execution_count": 19,
   "id": "ceba7777-fb5f-4c76-b962-09685168d103",
   "metadata": {},
   "outputs": [
    {
     "data": {
      "text/plain": [
       "20"
      ]
     },
     "execution_count": 19,
     "metadata": {},
     "output_type": "execute_result"
    }
   ],
   "source": [
    "#Handling missing values in Age column.\n",
    "marketing.age.isnull().sum()"
   ]
  },
  {
   "cell_type": "code",
   "execution_count": 20,
   "id": "cf4db7e2-5b8e-420c-b02d-477f825dbb31",
   "metadata": {},
   "outputs": [
    {
     "data": {
      "text/plain": [
       "(45211, 19)"
      ]
     },
     "execution_count": 20,
     "metadata": {},
     "output_type": "execute_result"
    }
   ],
   "source": [
    "#print the shape of the dataset.\n",
    "marketing.shape"
   ]
  },
  {
   "cell_type": "code",
   "execution_count": 22,
   "id": "511c97cf-15f7-4496-ac54-6c6ba5255381",
   "metadata": {},
   "outputs": [],
   "source": [
    "#Calcualte the percentage of the missing values in Age column.\n",
    "ageMissingPercentage = marketing.age.isnull().sum()/marketing.shape[0] * 100"
   ]
  },
  {
   "cell_type": "code",
   "execution_count": 23,
   "id": "dc8449e1-b9dc-4228-8278-11ed92f28ab7",
   "metadata": {},
   "outputs": [
    {
     "data": {
      "text/plain": [
       "0.0442370219636814"
      ]
     },
     "execution_count": 23,
     "metadata": {},
     "output_type": "execute_result"
    }
   ],
   "source": [
    "ageMissingPercentage"
   ]
  },
  {
   "cell_type": "code",
   "execution_count": 24,
   "id": "594021f2-1b29-4bac-9752-598e82940a14",
   "metadata": {},
   "outputs": [],
   "source": [
    "#Handle the missing values in Age column.\n",
    "age_mean = marketing.age.mean()"
   ]
  },
  {
   "cell_type": "code",
   "execution_count": 25,
   "id": "2d8218a1-e23c-4b40-9bc8-5fd9573b03be",
   "metadata": {},
   "outputs": [
    {
     "data": {
      "text/plain": [
       "40.93565090394105"
      ]
     },
     "execution_count": 25,
     "metadata": {},
     "output_type": "execute_result"
    }
   ],
   "source": [
    "age_mean"
   ]
  },
  {
   "cell_type": "code",
   "execution_count": 26,
   "id": "f8bb2207-523f-4a30-ac7a-af2f341d401f",
   "metadata": {},
   "outputs": [],
   "source": [
    "marketing['age'].fillna(age_mean, inplace=True)"
   ]
  },
  {
   "cell_type": "code",
   "execution_count": 27,
   "id": "5379da30-6104-48ee-afc4-17cd6ff5f02c",
   "metadata": {},
   "outputs": [
    {
     "data": {
      "text/plain": [
       "0"
      ]
     },
     "execution_count": 27,
     "metadata": {},
     "output_type": "execute_result"
    }
   ],
   "source": [
    "#Check the missing values for age after handling it.\n",
    "marketing.age.isnull().sum()"
   ]
  },
  {
   "cell_type": "code",
   "execution_count": 35,
   "id": "d5b9b5f0-dc5e-47f7-87d9-e521894c80a5",
   "metadata": {},
   "outputs": [
    {
     "data": {
      "text/plain": [
       "0"
      ]
     },
     "execution_count": 35,
     "metadata": {},
     "output_type": "execute_result"
    }
   ],
   "source": [
    "#Check the missing values for salary column.\n",
    "marketing.salary.isnull().sum()"
   ]
  },
  {
   "cell_type": "code",
   "execution_count": 37,
   "id": "2fe054ac-7101-47ce-9690-36383098b7a5",
   "metadata": {},
   "outputs": [
    {
     "data": {
      "text/plain": [
       "0"
      ]
     },
     "execution_count": 37,
     "metadata": {},
     "output_type": "execute_result"
    }
   ],
   "source": [
    "#Check the missing values for balance column.\n",
    "marketing.balance.isnull().sum()"
   ]
  },
  {
   "cell_type": "code",
   "execution_count": 38,
   "id": "96f91d2a-9616-4a3d-895a-ef02c3690793",
   "metadata": {},
   "outputs": [
    {
     "data": {
      "text/plain": [
       "0"
      ]
     },
     "execution_count": 38,
     "metadata": {},
     "output_type": "execute_result"
    }
   ],
   "source": [
    "#Check the missing values for marital column.\n",
    "marketing.marital.isnull().sum()"
   ]
  },
  {
   "cell_type": "code",
   "execution_count": 39,
   "id": "dc8628d3-1cfd-4c5e-a831-fe54ac1e2794",
   "metadata": {},
   "outputs": [
    {
     "data": {
      "text/plain": [
       "0"
      ]
     },
     "execution_count": 39,
     "metadata": {},
     "output_type": "execute_result"
    }
   ],
   "source": [
    "#check the missing values for targeted column.\n",
    "marketing.targeted.isnull().sum()\n"
   ]
  },
  {
   "cell_type": "code",
   "execution_count": 40,
   "id": "ea9f5586-783d-4248-a9d5-89013d6e4a63",
   "metadata": {},
   "outputs": [
    {
     "data": {
      "text/plain": [
       "0"
      ]
     },
     "execution_count": 40,
     "metadata": {},
     "output_type": "execute_result"
    }
   ],
   "source": [
    "#Check the missing values for default column\n",
    "marketing.default.isnull().sum()"
   ]
  },
  {
   "cell_type": "code",
   "execution_count": 41,
   "id": "28a5e3af-76f2-410f-9b9d-4d030b3cc9f5",
   "metadata": {},
   "outputs": [
    {
     "data": {
      "text/plain": [
       "0"
      ]
     },
     "execution_count": 41,
     "metadata": {},
     "output_type": "execute_result"
    }
   ],
   "source": [
    "#Check the missing values for housing column.\n",
    "marketing.housing.isnull().sum()"
   ]
  },
  {
   "cell_type": "code",
   "execution_count": 42,
   "id": "c009eb72-4e5e-4b72-8895-dce8f2ecb9ed",
   "metadata": {},
   "outputs": [
    {
     "data": {
      "text/plain": [
       "0"
      ]
     },
     "execution_count": 42,
     "metadata": {},
     "output_type": "execute_result"
    }
   ],
   "source": [
    "#Check the missing values for loan column.\n",
    "marketing.loan.isnull().sum()"
   ]
  },
  {
   "cell_type": "code",
   "execution_count": 43,
   "id": "c1ab336b-eba7-4d13-a53b-731c80926821",
   "metadata": {},
   "outputs": [
    {
     "data": {
      "text/plain": [
       "0"
      ]
     },
     "execution_count": 43,
     "metadata": {},
     "output_type": "execute_result"
    }
   ],
   "source": [
    "#Check the missing values for contact column.\n",
    "marketing.contact.isnull().sum()"
   ]
  },
  {
   "cell_type": "code",
   "execution_count": 44,
   "id": "01382269-4f75-4e30-bc6c-cedebdaa8b0e",
   "metadata": {},
   "outputs": [
    {
     "data": {
      "text/plain": [
       "0"
      ]
     },
     "execution_count": 44,
     "metadata": {},
     "output_type": "execute_result"
    }
   ],
   "source": [
    "#Check the missing values for day column.\n",
    "marketing.day.isnull().sum()"
   ]
  },
  {
   "cell_type": "code",
   "execution_count": 45,
   "id": "193f4947-95cb-45dd-80bd-66ece9426cc9",
   "metadata": {},
   "outputs": [
    {
     "data": {
      "text/plain": [
       "50"
      ]
     },
     "execution_count": 45,
     "metadata": {},
     "output_type": "execute_result"
    }
   ],
   "source": [
    "#Check the missing values for month column.\n",
    "marketing.month.isnull().sum()"
   ]
  },
  {
   "cell_type": "code",
   "execution_count": 46,
   "id": "2ccdb78b-d0eb-4ae4-838f-c50c367009c6",
   "metadata": {},
   "outputs": [
    {
     "data": {
      "text/plain": [
       "0"
      ]
     },
     "execution_count": 46,
     "metadata": {},
     "output_type": "execute_result"
    }
   ],
   "source": [
    "#Check the missing values for duration column.\n",
    "marketing.duration.isnull().sum()"
   ]
  },
  {
   "cell_type": "code",
   "execution_count": 47,
   "id": "4329dde7-2d44-4ff2-b3e9-4fed6f39419f",
   "metadata": {},
   "outputs": [
    {
     "data": {
      "text/plain": [
       "0"
      ]
     },
     "execution_count": 47,
     "metadata": {},
     "output_type": "execute_result"
    }
   ],
   "source": [
    "#Check the missing values for campaign column.\n",
    "marketing.campaign.isnull().sum()"
   ]
  },
  {
   "cell_type": "code",
   "execution_count": 48,
   "id": "09a75680-64ab-4b43-9413-00af30634bcd",
   "metadata": {},
   "outputs": [
    {
     "data": {
      "text/plain": [
       "0"
      ]
     },
     "execution_count": 48,
     "metadata": {},
     "output_type": "execute_result"
    }
   ],
   "source": [
    "#check the missing values for pdays column.\n",
    "marketing.pdays.isnull().sum()"
   ]
  },
  {
   "cell_type": "code",
   "execution_count": 50,
   "id": "2ef13bbf-41ce-407b-9dfb-3b7d96ebb45e",
   "metadata": {},
   "outputs": [
    {
     "data": {
      "text/plain": [
       "0"
      ]
     },
     "execution_count": 50,
     "metadata": {},
     "output_type": "execute_result"
    }
   ],
   "source": [
    "#check the missing values for previous column.\n",
    "marketing.previous.isnull().sum()"
   ]
  },
  {
   "cell_type": "code",
   "execution_count": 51,
   "id": "259f4e4a-3639-4b3f-8c65-8ecbeb07e1be",
   "metadata": {},
   "outputs": [
    {
     "data": {
      "text/plain": [
       "0"
      ]
     },
     "execution_count": 51,
     "metadata": {},
     "output_type": "execute_result"
    }
   ],
   "source": [
    "#check the missing values for poutcome column.\n",
    "marketing.poutcome.isnull().sum()"
   ]
  },
  {
   "cell_type": "code",
   "execution_count": 52,
   "id": "3354ceaf-d82b-48a0-afbc-0282c6550348",
   "metadata": {},
   "outputs": [
    {
     "data": {
      "text/plain": [
       "0"
      ]
     },
     "execution_count": 52,
     "metadata": {},
     "output_type": "execute_result"
    }
   ],
   "source": [
    "#check the missing values for job column.\n",
    "marketing.job.isnull().sum()"
   ]
  },
  {
   "cell_type": "code",
   "execution_count": 53,
   "id": "f1e5e785-899c-4904-8d65-308750cc59b6",
   "metadata": {},
   "outputs": [
    {
     "data": {
      "text/plain": [
       "0"
      ]
     },
     "execution_count": 53,
     "metadata": {},
     "output_type": "execute_result"
    }
   ],
   "source": [
    "#check the missing values for education column.\n",
    "marketing.education.isnull().sum()"
   ]
  },
  {
   "cell_type": "code",
   "execution_count": 62,
   "id": "af96a5fe-17b2-4292-85df-65cf75dc2477",
   "metadata": {},
   "outputs": [],
   "source": [
    "#Handle the missing values for month.\n",
    "month_mode = marketing.month.mode()\n",
    "marketing.month.fillna(month_mode[0], inplace=True)\n"
   ]
  },
  {
   "cell_type": "code",
   "execution_count": 63,
   "id": "d49a6ae2-7e19-4d6f-b86f-22aae5446076",
   "metadata": {},
   "outputs": [
    {
     "data": {
      "text/plain": [
       "0"
      ]
     },
     "execution_count": 63,
     "metadata": {},
     "output_type": "execute_result"
    }
   ],
   "source": [
    "#Check the missing values for month column after handling it.\n",
    "marketing.month.isnull().sum()"
   ]
  },
  {
   "cell_type": "code",
   "execution_count": 66,
   "id": "5dfe1673-9acb-4e3b-bfb2-d0c6cd3d1d4c",
   "metadata": {},
   "outputs": [
    {
     "data": {
      "text/plain": [
       "30"
      ]
     },
     "execution_count": 66,
     "metadata": {},
     "output_type": "execute_result"
    }
   ],
   "source": [
    "#Check the missing values for response column (dependent variable)\n",
    "marketing.response.isnull().sum()"
   ]
  },
  {
   "cell_type": "code",
   "execution_count": 70,
   "id": "c0aca7c5-4f9f-4994-90a5-6bdc908f0004",
   "metadata": {},
   "outputs": [],
   "source": [
    "#Handle the missing values for response column.\n",
    "response_mode = marketing.response.mode()\n",
    "marketing['response'].fillna(response_mode[0], inplace=True)"
   ]
  },
  {
   "cell_type": "code",
   "execution_count": 71,
   "id": "a6f3fa86-327b-4b82-b16f-e040017f726f",
   "metadata": {},
   "outputs": [
    {
     "data": {
      "text/plain": [
       "0"
      ]
     },
     "execution_count": 71,
     "metadata": {},
     "output_type": "execute_result"
    }
   ],
   "source": [
    "#Check the missing values for response column after handling it.\n",
    "marketing.response.isnull().sum()"
   ]
  },
  {
   "cell_type": "code",
   "execution_count": 77,
   "id": "16387b29-40e8-433e-8557-ed7519f36a1f",
   "metadata": {},
   "outputs": [],
   "source": [
    "#Updating all the values less than 0 with NaN.\n",
    "marketing.loc[marketing.pdays <0, 'pdays'] = np.NaN"
   ]
  },
  {
   "cell_type": "markdown",
   "id": "c24ce2b8-949f-421e-9925-a934607a725e",
   "metadata": {},
   "source": [
    "## Finding and Treating outliers."
   ]
  },
  {
   "cell_type": "code",
   "execution_count": 84,
   "id": "b4f56efc-c0a4-4677-a92b-a2ff6c0ab23d",
   "metadata": {},
   "outputs": [
    {
     "data": {
      "image/png": "[encoded data removed]",
      "text/plain": [
       "<Figure size 640x480 with 1 Axes>"
      ]
     },
     "metadata": {},
     "output_type": "display_data"
    }
   ],
   "source": [
    "#Draw a box plot to find the outliers for age column.\n",
    "sns.boxplot(marketing['age'])\n",
    "plt.show()"
   ]
  },
  {
   "cell_type": "code",
   "execution_count": 85,
   "id": "c21c8966-b9b2-4c0b-be05-824befce7e94",
   "metadata": {},
   "outputs": [],
   "source": [
    "#Calculating outliers for age.\n",
    "iqr_age = marketing['age'].quantile(0.75) - marketing['age'].quantile(0.25)\n",
    "l_age = marketing['age'].quantile(0.25) - 1.5 * iqr_age\n",
    "u_age = marketing['age'].quantile(0.75) + 1.5 * iqr_age"
   ]
  },
  {
   "cell_type": "code",
   "execution_count": 86,
   "id": "5cf2afe4-8301-4320-8897-25af371606c2",
   "metadata": {},
   "outputs": [],
   "source": [
    "#Treating outliers for age.\n",
    "marketing['age'] = np.where(marketing['age'] > u_age, u_age, marketing['age'])\n",
    "marketing['age'] = np.where(marketing['age'] < l_age, l_age, marketing['age'])"
   ]
  },
  {
   "cell_type": "code",
   "execution_count": 87,
   "id": "e7778538-7c07-4188-b576-4900706eb06a",
   "metadata": {},
   "outputs": [
    {
     "data": {
      "image/png": "[encoded data removed]",
      "text/plain": [
       "<Figure size 640x480 with 1 Axes>"
      ]
     },
     "metadata": {},
     "output_type": "display_data"
    }
   ],
   "source": [
    "#Draw a box plot for age afer handling outliers.\n",
    "sns.boxplot(marketing['age'])\n",
    "plt.show()\n"
   ]
  },
  {
   "cell_type": "code",
   "execution_count": 91,
   "id": "5d852afe-fdef-4976-875c-0f8fdce2efdd",
   "metadata": {},
   "outputs": [
    {
     "data": {
      "image/png": "[encoded data removed]",
      "text/plain": [
       "<Figure size 640x480 with 1 Axes>"
      ]
     },
     "metadata": {},
     "output_type": "display_data"
    }
   ],
   "source": [
    "sns.boxplot(marketing['salary'])\n",
    "plt.show()"
   ]
  },
  {
   "cell_type": "code",
   "execution_count": 92,
   "id": "61d37df2-5988-41c2-9b15-08b8ed9b93fd",
   "metadata": {},
   "outputs": [
    {
     "data": {
      "image/png": "[encoded data removed]",
      "text/plain": [
       "<Figure size 640x480 with 1 Axes>"
      ]
     },
     "metadata": {},
     "output_type": "display_data"
    }
   ],
   "source": [
    "#Draw abox plot to find the outliers.\n",
    "sns.boxplot(marketing['balance'])\n",
    "plt.show()"
   ]
  },
  {
   "cell_type": "code",
   "execution_count": 95,
   "id": "67598622-3983-46dd-8e81-d6818bac0899",
   "metadata": {},
   "outputs": [],
   "source": [
    "#Treat the outliers for balance column.\n",
    "iqr_balance = marketing['balance'].quantile(0.75) - marketing['balance'].quantile(0.25)\n",
    "l_balance = marketing['balance'].quantile(0.25) - 1.5 * iqr_balance\n",
    "u_balance = marketing['balance'].quantile(0.75) + 1.5 * iqr_balance\n",
    "marketing['balance'] = np.where(marketing['balance'] < l_balance, l_balance, marketing['balance'])\n",
    "marketing['balance'] = np.where(marketing['balance'] > u_balance, u_balance, marketing['balance'])"
   ]
  },
  {
   "cell_type": "code",
   "execution_count": 96,
   "id": "9ad446f5-d197-410c-9067-c5571fee0185",
   "metadata": {},
   "outputs": [
    {
     "data": {
      "image/png": "[encoded data removed]",
      "text/plain": [
       "<Figure size 640x480 with 1 Axes>"
      ]
     },
     "metadata": {},
     "output_type": "display_data"
    }
   ],
   "source": [
    "#Drawing the plot after treating the outliers.\n",
    "sns.boxplot(marketing['balance'])\n",
    "plt.show()"
   ]
  },
  {
   "cell_type": "code",
   "execution_count": 97,
   "id": "08962d3e-19e4-4dd9-931c-4723e0cce683",
   "metadata": {},
   "outputs": [
    {
     "data": {
      "image/png": "[encoded data removed]",
      "text/plain": [
       "<Figure size 640x480 with 1 Axes>"
      ]
     },
     "metadata": {},
     "output_type": "display_data"
    }
   ],
   "source": [
    "#Draw a box plot for day column to find the outliers.\n",
    "sns.boxplot(marketing['day'])\n",
    "plt.show()"
   ]
  },
  {
   "cell_type": "code",
   "execution_count": 98,
   "id": "dd813ae7-f4fa-4cd9-bd86-7c069e782d6e",
   "metadata": {},
   "outputs": [
    {
     "data": {
      "image/png": "[encoded data removed]",
      "text/plain": [
       "<Figure size 640x480 with 1 Axes>"
      ]
     },
     "metadata": {},
     "output_type": "display_data"
    }
   ],
   "source": [
    "#Draw a box plot for campaign column to find the outliers.\n",
    "sns.boxplot(marketing['campaign'])\n",
    "plt.show()"
   ]
  },
  {
   "cell_type": "code",
   "execution_count": 99,
   "id": "e11898bc-9e1a-4658-948b-211950d82c4d",
   "metadata": {},
   "outputs": [],
   "source": [
    "#Treat the outliers for campaign column.\n",
    "iqr_campaign = marketing['campaign'].quantile(0.75) - marketing['campaign'].quantile(0.25)\n",
    "l_campaign = marketing['campaign'].quantile(0.25) - 1.5 * iqr_campaign\n",
    "u_campaign = marketing['campaign'].quantile(0.75) + 1.5 * iqr_campaign\n",
    "marketing['campaign'] = np.where(marketing['campaign'] < l_campaign, l_campaign, marketing['campaign'])\n",
    "marketing['campaign'] = np.where(marketing['campaign'] > u_campaign, u_campaign, marketing['campaign'])"
   ]
  },
  {
   "cell_type": "code",
   "execution_count": 100,
   "id": "ec4aa64f-4ace-46a1-ae19-ef5cb36363a1",
   "metadata": {},
   "outputs": [
    {
     "data": {
      "image/png": "[encoded data removed]",
      "text/plain": [
       "<Figure size 640x480 with 1 Axes>"
      ]
     },
     "metadata": {},
     "output_type": "display_data"
    }
   ],
   "source": [
    "#Drawing the plot after treating the outliers.\n",
    "sns.boxplot(marketing['campaign'])\n",
    "plt.show()"
   ]
  },
  {
   "cell_type": "code",
   "execution_count": 101,
   "id": "2d35efa4-eff1-4697-b41a-580f294d2fa7",
   "metadata": {},
   "outputs": [
    {
     "data": {
      "image/png": "[encoded data removed]",
      "text/plain": [
       "<Figure size 640x480 with 1 Axes>"
      ]
     },
     "metadata": {},
     "output_type": "display_data"
    }
   ],
   "source": [
    "#Draw a box plot for pdays column to find the outliers.\n",
    "sns.boxplot(marketing['pdays'])\n",
    "plt.show()"
   ]
  },
  {
   "cell_type": "code",
   "execution_count": 102,
   "id": "59a514b1-d38b-4d72-be5d-d3f2640ceade",
   "metadata": {},
   "outputs": [],
   "source": [
    "#Treat the outliers for pdays column.\n",
    "iqr_pdays = marketing['pdays'].quantile(0.75) - marketing['pdays'].quantile(0.25)\n",
    "l_pdays = marketing['pdays'].quantile(0.25) - 1.5 * iqr_pdays\n",
    "u_pdays = marketing['pdays'].quantile(0.75) + 1.5 * iqr_pdays\n",
    "marketing['pdays'] = np.where(marketing['pdays'] < l_pdays, l_pdays, marketing['pdays'])\n",
    "marketing['pdays'] = np.where(marketing['pdays'] > u_pdays, u_pdays, marketing['pdays'])"
   ]
  },
  {
   "cell_type": "code",
   "execution_count": 104,
   "id": "2a1c92ac-3bdb-439e-8ef2-5991f4848cd8",
   "metadata": {},
   "outputs": [
    {
     "data": {
      "image/png": "[encoded data removed]",
      "text/plain": [
       "<Figure size 640x480 with 1 Axes>"
      ]
     },
     "metadata": {},
     "output_type": "display_data"
    }
   ],
   "source": [
    "#Drawing the plot after treating the outliers.\n",
    "sns.boxplot(marketing['pdays'])\n",
    "plt.show()"
   ]
  },
  {
   "cell_type": "code",
   "execution_count": 105,
   "id": "d12907ea-69b7-4362-99a9-53cf3bd8ec9b",
   "metadata": {},
   "outputs": [
    {
     "data": {
      "image/png": "[encoded data removed]",
      "text/plain": [
       "<Figure size 640x480 with 1 Axes>"
      ]
     },
     "metadata": {},
     "output_type": "display_data"
    }
   ],
   "source": [
    "#Draw a box plot for pdays column to find the outliers\n",
    "sns.boxplot(marketing['previous'])\n",
    "plt.show()"
   ]
  },
  {
   "cell_type": "code",
   "execution_count": 106,
   "id": "bb7dfbc6-34a2-4df7-982f-27112466e658",
   "metadata": {},
   "outputs": [],
   "source": [
    "#Treat the outliers for previous column.\n",
    "iqr_previous = marketing['previous'].quantile(0.75) - marketing['previous'].quantile(0.25)\n",
    "l_previous = marketing['previous'].quantile(0.25) - 1.5 * iqr_previous\n",
    "u_previous = marketing['previous'].quantile(0.75) + 1.5 * iqr_previous\n",
    "marketing['previous'] = np.where(marketing['previous'] < l_previous, l_previous, marketing['previous'])\n",
    "marketing['previous'] = np.where(marketing['previous'] > u_previous, u_previous, marketing['previous'])"
   ]
  },
  {
   "cell_type": "code",
   "execution_count": 114,
   "id": "d3fd0ede-304b-4274-a0e8-648cf2f08979",
   "metadata": {},
   "outputs": [
    {
     "data": {
      "image/png": "[encoded data removed]",
      "text/plain": [
       "<Figure size 500x500 with 1 Axes>"
      ]
     },
     "metadata": {},
     "output_type": "display_data"
    }
   ],
   "source": [
    "sns.displot(marketing['age'],bins=30, kde=True)\n",
    "plt.show()"
   ]
  },
  {
   "cell_type": "code",
   "execution_count": null,
   "id": "e8b458e8-6742-42ee-b3c3-4176afe01b46",
   "metadata": {},
   "outputs": [],
   "source": []
  },
  {
   "cell_type": "code",
   "execution_count": 112,
   "id": "9da8f57f-27da-4abf-8b8d-800a29ad16ea",
   "metadata": {},
   "outputs": [],
   "source": [
    "#Distribution is right skewed. Hence, performing the Z tramsformation.\n",
    "marketing['new_age'] = (marketing['age'] - marketing['age'].mean())/marketing['age'].std()"
   ]
  },
  {
   "cell_type": "code",
   "execution_count": 107,
   "id": "4d5f1bf7-b7ff-40a1-9e49-adaa28248b96",
   "metadata": {},
   "outputs": [
    {
     "data": {
      "image/png": "[encoded data removed]",
      "text/plain": [
       "<Figure size 640x480 with 1 Axes>"
      ]
     },
     "metadata": {},
     "output_type": "display_data"
    }
   ],
   "source": [
    "#Drawing the plot after treating the outliers.\n",
    "sns.boxplot(marketing['previous'])\n",
    "plt.show()"
   ]
  },
  {
   "cell_type": "code",
   "execution_count": null,
   "id": "0355a71a-c0a9-41d3-bec2-02d4366407f3",
   "metadata": {},
   "outputs": [],
   "source": []
  },
  {
   "cell_type": "code",
   "execution_count": 113,
   "id": "eec43e6b-0e5d-446e-bf5d-cf63d8a25711",
   "metadata": {},
   "outputs": [
    {
     "data": {
      "image/png": "[encoded data removed]",
      "text/plain": [
       "<Figure size 500x500 with 1 Axes>"
      ]
     },
     "metadata": {},
     "output_type": "display_data"
    }
   ],
   "source": [
    "sns.displot(marketing['new_age'],bins=30, kde=True)\n",
    "plt.show()"
   ]
  },
  {
   "cell_type": "code",
   "execution_count": 116,
   "id": "239674f9-cf85-45c6-8ce2-09e16a23640e",
   "metadata": {},
   "outputs": [
    {
     "data": {
      "image/png": "[encoded data removed]",
      "text/plain": [
       "<Figure size 640x480 with 3 Axes>"
      ]
     },
     "metadata": {},
     "output_type": "display_data"
    }
   ],
   "source": [
    "#Find the correlation between age, salary, balance.\n",
    "corrs = marketing[['age', 'balance', 'salary']].corr()\n",
    "sns.heatmap(corrs, annot=True)\n",
    "plt.show()"
   ]
  },
  {
   "cell_type": "code",
   "execution_count": 119,
   "id": "1ec30dae-b1c4-4d06-9752-a86dfd3ebf83",
   "metadata": {},
   "outputs": [
    {
     "data": {
      "image/png": "[encoded data removed]",
      "text/plain": [
       "<Figure size 640x480 with 1 Axes>"
      ]
     },
     "metadata": {},
     "output_type": "display_data"
    }
   ],
   "source": [
    "# /marketing.groupby('response')['salary'].mean()\n",
    "sns.boxplot(data=marketing, x='response', y='salary')\n",
    "plt.show()"
   ]
  },
  {
   "cell_type": "code",
   "execution_count": 123,
   "id": "5ab0aaa2-092d-48ce-b1b4-c7007c02c03d",
   "metadata": {},
   "outputs": [
    {
     "data": {
      "image/png": "[encoded data removed]",
      "text/plain": [
       "<Figure size 640x480 with 1 Axes>"
      ]
     },
     "metadata": {},
     "output_type": "display_data"
    }
   ],
   "source": [
    "marketing.groupby('response')['balance'].mean()\n",
    "sns.barplot(data=marketing, x=\"response\", y=\"balance\")\n",
    "plt.show()"
   ]
  },
  {
   "cell_type": "code",
   "execution_count": 125,
   "id": "fdc65039-130c-4b9e-85f3-069bcdadeb43",
   "metadata": {},
   "outputs": [],
   "source": [
    "marketing.groupby('response')['age'].mean()\n",
    "marketing['response_flag']=np.where(marketing.response=='yes',1,0)"
   ]
  },
  {
   "cell_type": "code",
   "execution_count": 127,
   "id": "9029670e-f651-42ef-9a44-ccbbcfe643b3",
   "metadata": {},
   "outputs": [
    {
     "data": {
      "text/html": [
       "<div>\n",
       "<style scoped>\n",
       "    .dataframe tbody tr th:only-of-type {\n",
       "        vertical-align: middle;\n",
       "    }\n",
       "\n",
       "    .dataframe tbody tr th {\n",
       "        vertical-align: top;\n",
       "    }\n",
       "\n",
       "    .dataframe thead th {\n",
       "        text-align: right;\n",
       "    }\n",
       "</style>\n",
       "<table border=\"1\" class=\"dataframe\">\n",
       "  <thead>\n",
       "    <tr style=\"text-align: right;\">\n",
       "      <th></th>\n",
       "      <th>age</th>\n",
       "      <th>salary</th>\n",
       "      <th>balance</th>\n",
       "      <th>marital</th>\n",
       "      <th>targeted</th>\n",
       "      <th>default</th>\n",
       "      <th>housing</th>\n",
       "      <th>loan</th>\n",
       "      <th>contact</th>\n",
       "      <th>day</th>\n",
       "      <th>...</th>\n",
       "      <th>duration</th>\n",
       "      <th>campaign</th>\n",
       "      <th>pdays</th>\n",
       "      <th>previous</th>\n",
       "      <th>poutcome</th>\n",
       "      <th>response</th>\n",
       "      <th>job</th>\n",
       "      <th>education</th>\n",
       "      <th>new_age</th>\n",
       "      <th>response_flag</th>\n",
       "    </tr>\n",
       "  </thead>\n",
       "  <tbody>\n",
       "    <tr>\n",
       "      <th>0</th>\n",
       "      <td>58.0</td>\n",
       "      <td>100000</td>\n",
       "      <td>2143.0</td>\n",
       "      <td>married</td>\n",
       "      <td>yes</td>\n",
       "      <td>no</td>\n",
       "      <td>yes</td>\n",
       "      <td>no</td>\n",
       "      <td>unknown</td>\n",
       "      <td>5</td>\n",
       "      <td>...</td>\n",
       "      <td>261 sec</td>\n",
       "      <td>1.0</td>\n",
       "      <td>NaN</td>\n",
       "      <td>0.0</td>\n",
       "      <td>unknown</td>\n",
       "      <td>no</td>\n",
       "      <td>management</td>\n",
       "      <td>tertiary</td>\n",
       "      <td>1.648463</td>\n",
       "      <td>0</td>\n",
       "    </tr>\n",
       "    <tr>\n",
       "      <th>1</th>\n",
       "      <td>44.0</td>\n",
       "      <td>60000</td>\n",
       "      <td>29.0</td>\n",
       "      <td>single</td>\n",
       "      <td>yes</td>\n",
       "      <td>no</td>\n",
       "      <td>yes</td>\n",
       "      <td>no</td>\n",
       "      <td>unknown</td>\n",
       "      <td>5</td>\n",
       "      <td>...</td>\n",
       "      <td>151 sec</td>\n",
       "      <td>1.0</td>\n",
       "      <td>NaN</td>\n",
       "      <td>0.0</td>\n",
       "      <td>unknown</td>\n",
       "      <td>no</td>\n",
       "      <td>technician</td>\n",
       "      <td>secondary</td>\n",
       "      <td>0.301395</td>\n",
       "      <td>0</td>\n",
       "    </tr>\n",
       "    <tr>\n",
       "      <th>2</th>\n",
       "      <td>33.0</td>\n",
       "      <td>120000</td>\n",
       "      <td>2.0</td>\n",
       "      <td>married</td>\n",
       "      <td>yes</td>\n",
       "      <td>no</td>\n",
       "      <td>yes</td>\n",
       "      <td>yes</td>\n",
       "      <td>unknown</td>\n",
       "      <td>5</td>\n",
       "      <td>...</td>\n",
       "      <td>76 sec</td>\n",
       "      <td>1.0</td>\n",
       "      <td>NaN</td>\n",
       "      <td>0.0</td>\n",
       "      <td>unknown</td>\n",
       "      <td>no</td>\n",
       "      <td>entrepreneur</td>\n",
       "      <td>secondary</td>\n",
       "      <td>-0.757017</td>\n",
       "      <td>0</td>\n",
       "    </tr>\n",
       "    <tr>\n",
       "      <th>3</th>\n",
       "      <td>47.0</td>\n",
       "      <td>20000</td>\n",
       "      <td>1506.0</td>\n",
       "      <td>married</td>\n",
       "      <td>no</td>\n",
       "      <td>no</td>\n",
       "      <td>yes</td>\n",
       "      <td>no</td>\n",
       "      <td>unknown</td>\n",
       "      <td>5</td>\n",
       "      <td>...</td>\n",
       "      <td>92 sec</td>\n",
       "      <td>1.0</td>\n",
       "      <td>NaN</td>\n",
       "      <td>0.0</td>\n",
       "      <td>unknown</td>\n",
       "      <td>no</td>\n",
       "      <td>blue-collar</td>\n",
       "      <td>unknown</td>\n",
       "      <td>0.590052</td>\n",
       "      <td>0</td>\n",
       "    </tr>\n",
       "    <tr>\n",
       "      <th>4</th>\n",
       "      <td>33.0</td>\n",
       "      <td>0</td>\n",
       "      <td>1.0</td>\n",
       "      <td>single</td>\n",
       "      <td>no</td>\n",
       "      <td>no</td>\n",
       "      <td>no</td>\n",
       "      <td>no</td>\n",
       "      <td>unknown</td>\n",
       "      <td>5</td>\n",
       "      <td>...</td>\n",
       "      <td>198 sec</td>\n",
       "      <td>1.0</td>\n",
       "      <td>NaN</td>\n",
       "      <td>0.0</td>\n",
       "      <td>unknown</td>\n",
       "      <td>no</td>\n",
       "      <td>unknown</td>\n",
       "      <td>unknown</td>\n",
       "      <td>-0.757017</td>\n",
       "      <td>0</td>\n",
       "    </tr>\n",
       "    <tr>\n",
       "      <th>...</th>\n",
       "      <td>...</td>\n",
       "      <td>...</td>\n",
       "      <td>...</td>\n",
       "      <td>...</td>\n",
       "      <td>...</td>\n",
       "      <td>...</td>\n",
       "      <td>...</td>\n",
       "      <td>...</td>\n",
       "      <td>...</td>\n",
       "      <td>...</td>\n",
       "      <td>...</td>\n",
       "      <td>...</td>\n",
       "      <td>...</td>\n",
       "      <td>...</td>\n",
       "      <td>...</td>\n",
       "      <td>...</td>\n",
       "      <td>...</td>\n",
       "      <td>...</td>\n",
       "      <td>...</td>\n",
       "      <td>...</td>\n",
       "      <td>...</td>\n",
       "    </tr>\n",
       "    <tr>\n",
       "      <th>45194</th>\n",
       "      <td>59.0</td>\n",
       "      <td>100000</td>\n",
       "      <td>138.0</td>\n",
       "      <td>married</td>\n",
       "      <td>yes</td>\n",
       "      <td>no</td>\n",
       "      <td>yes</td>\n",
       "      <td>yes</td>\n",
       "      <td>cellular</td>\n",
       "      <td>16</td>\n",
       "      <td>...</td>\n",
       "      <td>2.7 min</td>\n",
       "      <td>2.0</td>\n",
       "      <td>187.0</td>\n",
       "      <td>0.0</td>\n",
       "      <td>failure</td>\n",
       "      <td>no</td>\n",
       "      <td>management</td>\n",
       "      <td>tertiary</td>\n",
       "      <td>1.744683</td>\n",
       "      <td>0</td>\n",
       "    </tr>\n",
       "    <tr>\n",
       "      <th>45198</th>\n",
       "      <td>37.0</td>\n",
       "      <td>100000</td>\n",
       "      <td>1428.0</td>\n",
       "      <td>married</td>\n",
       "      <td>yes</td>\n",
       "      <td>no</td>\n",
       "      <td>no</td>\n",
       "      <td>no</td>\n",
       "      <td>cellular</td>\n",
       "      <td>16</td>\n",
       "      <td>...</td>\n",
       "      <td>5.55 min</td>\n",
       "      <td>2.0</td>\n",
       "      <td>NaN</td>\n",
       "      <td>0.0</td>\n",
       "      <td>unknown</td>\n",
       "      <td>no</td>\n",
       "      <td>management</td>\n",
       "      <td>tertiary</td>\n",
       "      <td>-0.372140</td>\n",
       "      <td>0</td>\n",
       "    </tr>\n",
       "    <tr>\n",
       "      <th>45199</th>\n",
       "      <td>34.0</td>\n",
       "      <td>20000</td>\n",
       "      <td>1475.0</td>\n",
       "      <td>single</td>\n",
       "      <td>yes</td>\n",
       "      <td>no</td>\n",
       "      <td>yes</td>\n",
       "      <td>no</td>\n",
       "      <td>cellular</td>\n",
       "      <td>16</td>\n",
       "      <td>...</td>\n",
       "      <td>19.4333333333333 min</td>\n",
       "      <td>3.0</td>\n",
       "      <td>530.0</td>\n",
       "      <td>0.0</td>\n",
       "      <td>other</td>\n",
       "      <td>no</td>\n",
       "      <td>blue-collar</td>\n",
       "      <td>secondary</td>\n",
       "      <td>-0.660797</td>\n",
       "      <td>0</td>\n",
       "    </tr>\n",
       "    <tr>\n",
       "      <th>45209</th>\n",
       "      <td>57.0</td>\n",
       "      <td>20000</td>\n",
       "      <td>668.0</td>\n",
       "      <td>married</td>\n",
       "      <td>yes</td>\n",
       "      <td>no</td>\n",
       "      <td>no</td>\n",
       "      <td>no</td>\n",
       "      <td>telephone</td>\n",
       "      <td>17</td>\n",
       "      <td>...</td>\n",
       "      <td>8.46666666666667 min</td>\n",
       "      <td>4.0</td>\n",
       "      <td>NaN</td>\n",
       "      <td>0.0</td>\n",
       "      <td>unknown</td>\n",
       "      <td>no</td>\n",
       "      <td>blue-collar</td>\n",
       "      <td>secondary</td>\n",
       "      <td>1.552244</td>\n",
       "      <td>0</td>\n",
       "    </tr>\n",
       "    <tr>\n",
       "      <th>45210</th>\n",
       "      <td>37.0</td>\n",
       "      <td>120000</td>\n",
       "      <td>2971.0</td>\n",
       "      <td>married</td>\n",
       "      <td>yes</td>\n",
       "      <td>no</td>\n",
       "      <td>no</td>\n",
       "      <td>no</td>\n",
       "      <td>cellular</td>\n",
       "      <td>17</td>\n",
       "      <td>...</td>\n",
       "      <td>6.01666666666667 min</td>\n",
       "      <td>2.0</td>\n",
       "      <td>188.0</td>\n",
       "      <td>0.0</td>\n",
       "      <td>other</td>\n",
       "      <td>no</td>\n",
       "      <td>entrepreneur</td>\n",
       "      <td>secondary</td>\n",
       "      <td>-0.372140</td>\n",
       "      <td>0</td>\n",
       "    </tr>\n",
       "  </tbody>\n",
       "</table>\n",
       "<p>39924 rows × 21 columns</p>\n",
       "</div>"
      ],
      "text/plain": [
       "        age  salary  balance  marital targeted default housing loan  \\\n",
       "0      58.0  100000   2143.0  married      yes      no     yes   no   \n",
       "1      44.0   60000     29.0   single      yes      no     yes   no   \n",
       "2      33.0  120000      2.0  married      yes      no     yes  yes   \n",
       "3      47.0   20000   1506.0  married       no      no     yes   no   \n",
       "4      33.0       0      1.0   single       no      no      no   no   \n",
       "...     ...     ...      ...      ...      ...     ...     ...  ...   \n",
       "45194  59.0  100000    138.0  married      yes      no     yes  yes   \n",
       "45198  37.0  100000   1428.0  married      yes      no      no   no   \n",
       "45199  34.0   20000   1475.0   single      yes      no     yes   no   \n",
       "45209  57.0   20000    668.0  married      yes      no      no   no   \n",
       "45210  37.0  120000   2971.0  married      yes      no      no   no   \n",
       "\n",
       "         contact  day  ...              duration campaign  pdays  previous  \\\n",
       "0        unknown    5  ...               261 sec      1.0    NaN       0.0   \n",
       "1        unknown    5  ...               151 sec      1.0    NaN       0.0   \n",
       "2        unknown    5  ...                76 sec      1.0    NaN       0.0   \n",
       "3        unknown    5  ...                92 sec      1.0    NaN       0.0   \n",
       "4        unknown    5  ...               198 sec      1.0    NaN       0.0   \n",
       "...          ...  ...  ...                   ...      ...    ...       ...   \n",
       "45194   cellular   16  ...               2.7 min      2.0  187.0       0.0   \n",
       "45198   cellular   16  ...              5.55 min      2.0    NaN       0.0   \n",
       "45199   cellular   16  ...  19.4333333333333 min      3.0  530.0       0.0   \n",
       "45209  telephone   17  ...  8.46666666666667 min      4.0    NaN       0.0   \n",
       "45210   cellular   17  ...  6.01666666666667 min      2.0  188.0       0.0   \n",
       "\n",
       "       poutcome response           job  education   new_age  response_flag  \n",
       "0       unknown       no    management   tertiary  1.648463              0  \n",
       "1       unknown       no    technician  secondary  0.301395              0  \n",
       "2       unknown       no  entrepreneur  secondary -0.757017              0  \n",
       "3       unknown       no   blue-collar    unknown  0.590052              0  \n",
       "4       unknown       no       unknown    unknown -0.757017              0  \n",
       "...         ...      ...           ...        ...       ...            ...  \n",
       "45194   failure       no    management   tertiary  1.744683              0  \n",
       "45198   unknown       no    management   tertiary -0.372140              0  \n",
       "45199     other       no   blue-collar  secondary -0.660797              0  \n",
       "45209   unknown       no   blue-collar  secondary  1.552244              0  \n",
       "45210     other       no  entrepreneur  secondary -0.372140              0  \n",
       "\n",
       "[39924 rows x 21 columns]"
      ]
     },
     "execution_count": 127,
     "metadata": {},
     "output_type": "execute_result"
    }
   ],
   "source": [
    "marketing[marketing.response == 'no']"
   ]
  },
  {
   "cell_type": "code",
   "execution_count": 128,
   "id": "1eae6577-1e29-4303-bfc4-c20b2e8bad87",
   "metadata": {},
   "outputs": [
    {
     "data": {
      "text/plain": [
       "response_flag\n",
       "0    39924\n",
       "1     5287\n",
       "Name: count, dtype: int64"
      ]
     },
     "execution_count": 128,
     "metadata": {},
     "output_type": "execute_result"
    }
   ],
   "source": [
    "marketing['response_flag'].value_counts()"
   ]
  },
  {
   "cell_type": "code",
   "execution_count": 131,
   "id": "a63aba16-e183-4fc8-b975-c32e250e5299",
   "metadata": {},
   "outputs": [
    {
     "data": {
      "image/png": "[encoded data removed]",
      "text/plain": [
       "<Figure size 640x480 with 1 Axes>"
      ]
     },
     "metadata": {},
     "output_type": "display_data"
    }
   ],
   "source": [
    "marketing.groupby('education')['response_flag'].agg(['mean']).plot.bar()\n",
    "plt.show()"
   ]
  },
  {
   "cell_type": "code",
   "execution_count": 134,
   "id": "9b91934a-a683-4c3d-a241-08cd69a70146",
   "metadata": {},
   "outputs": [],
   "source": [
    "marketing_counts =marketing.groupby(['job','response_flag']).size().unstack()"
   ]
  },
  {
   "cell_type": "code",
   "execution_count": 140,
   "id": "0c868013-fc03-47fb-9c69-7cce6efe0e35",
   "metadata": {},
   "outputs": [
    {
     "data": {
      "image/png": "[encoded data removed]",
      "text/plain": [
       "<Figure size 640x480 with 1 Axes>"
      ]
     },
     "metadata": {},
     "output_type": "display_data"
    }
   ],
   "source": [
    "marketing_counts.plot(kind='bar')\n",
    "plt.show()"
   ]
  },
  {
   "cell_type": "code",
   "execution_count": 141,
   "id": "102fcc98-3991-4642-bb3b-6c1882057669",
   "metadata": {},
   "outputs": [
    {
     "data": {
      "image/png": "[encoded data removed]",
      "text/plain": [
       "<Figure size 640x480 with 1 Axes>"
      ]
     },
     "metadata": {},
     "output_type": "display_data"
    }
   ],
   "source": [
    "#Customize the plot\n",
    "plt.legend(title=\"Response Status\", labels=[\"No\",\"Yes\"]) #Legend for 0 and 1\n",
    "plt.ylabel(\"Count\") #Label for y-axis\n",
    "plt.xlabel(\"Job\") #Label fro x-axis\n",
    "plt.title(\"Response status by Job\") #Title of the plot\n",
    "plt.xticks(rotation=90) #Rotate x-axis labels for better readability\n",
    "plt.show()"
   ]
  },
  {
   "cell_type": "code",
   "execution_count": 149,
   "id": "415461b9-82ab-46be-b8ea-66d94a832b5f",
   "metadata": {},
   "outputs": [
    {
     "data": {
      "image/png": "[encoded data removed]",
      "text/plain": [
       "<Figure size 640x480 with 1 Axes>"
      ]
     },
     "metadata": {},
     "output_type": "display_data"
    }
   ],
   "source": [
    "marketing_counts =marketing.groupby(['marital','response_flag']).size().unstack()\n",
    "\n",
    "#Plot as a grouped bar chart (side by side bars)\n",
    "marketing_counts.plot(kind='bar')\n",
    "\n",
    "#Customize the plot\n",
    "plt.legend(title=\"Response Status\", labels=[\"No\",\"Yes\"]) #Legend for 0 and 1\n",
    "plt.ylabel(\"Count\") #Label for y-axis\n",
    "plt.xlabel(\"marital\") #Label fro x-axis\n",
    "plt.title(\"Response status by marital\") #Title of the plot\n",
    "plt.xticks(rotation=90) #Rotate x-axis labels for better readability\n",
    "plt.show()"
   ]
  },
  {
   "cell_type": "code",
   "execution_count": 150,
   "id": "fed3339b-9256-453d-927a-5e562fb3f29a",
   "metadata": {},
   "outputs": [
    {
     "data": {
      "image/png": "[encoded data removed]",
      "text/plain": [
       "<Figure size 640x480 with 1 Axes>"
      ]
     },
     "metadata": {},
     "output_type": "display_data"
    }
   ],
   "source": [
    "marketing_counts =marketing.groupby(['education','response_flag']).size().unstack()\n",
    "\n",
    "#Plot as a grouped bar chart (side by side bars)\n",
    "marketing_counts.plot(kind='bar')\n",
    "\n",
    "#Customize the plot\n",
    "plt.legend(title=\"Response Status\", labels=[\"No\",\"Yes\"]) #Legend for 0 and 1\n",
    "plt.ylabel(\"Count\") #Label for y-axis\n",
    "plt.xlabel(\"education\") #Label fro x-axis\n",
    "plt.title(\"Response status by education\") #Title of the plot\n",
    "plt.xticks(rotation=90) #Rotate x-axis labels for better readability\n",
    "plt.show()"
   ]
  },
  {
   "cell_type": "code",
   "execution_count": 153,
   "id": "4751e66c-c358-427e-bec2-82e97b77a441",
   "metadata": {},
   "outputs": [
    {
     "data": {
      "image/png": "[encoded data removed]",
      "text/plain": [
       "<Figure size 640x480 with 1 Axes>"
      ]
     },
     "metadata": {},
     "output_type": "display_data"
    }
   ],
   "source": [
    "marketing_counts =marketing.groupby(['loan','response_flag']).size().unstack()\n",
    "#Plot as a grouped bar chart (side by side bars)\n",
    "marketing_counts.plot(kind='bar')\n",
    "#Customize the plot\n",
    "plt.legend(title=\"Response Status\", labels=[\"No\",\"Yes\"]) #Legend for 0 and 1\n",
    "plt.ylabel(\"Count\") #Label for y-axis\n",
    "plt.xlabel(\"loan\") #Label fro x-axis\n",
    "plt.title(\"Response status by loan\") #Title of the plot\n",
    "plt.xticks(rotation=90) #Rotate x-axis labels for better readability\n",
    "plt.show()"
   ]
  },
  {
   "cell_type": "code",
   "execution_count": 154,
   "id": "f57413c7-037b-4601-93ae-09a4155ba3c3",
   "metadata": {},
   "outputs": [
    {
     "data": {
      "image/png": "[encoded data removed]",
      "text/plain": [
       "<Figure size 640x480 with 1 Axes>"
      ]
     },
     "metadata": {},
     "output_type": "display_data"
    }
   ],
   "source": [
    "marketing_counts =marketing.groupby(['housing','response_flag']).size().unstack()\n",
    "#Plot as a grouped bar chart (side by side bars)\n",
    "marketing_counts.plot(kind='bar')\n",
    "#Customize the plot\n",
    "plt.legend(title=\"Response Status\", labels=[\"No\",\"Yes\"]) #Legend for 0 and 1|\n",
    "plt.ylabel(\"Count\") #Label for y-axis\n",
    "plt.xlabel(\"housing\") #Label fro x-axis\n",
    "plt.title(\"Response status by housing\") #Title of the plot\n",
    "plt.xticks(rotation=90) #Rotate x-axis labels for better readability\n",
    "plt.show()"
   ]
  },
  {
   "cell_type": "code",
   "execution_count": 159,
   "id": "522c9ac8-7b8f-4635-bcfd-69e01b8c7a3f",
   "metadata": {},
   "outputs": [],
   "source": [
    "#Function to extract number\n",
    "def number_extract(col):\n",
    "    return col.astype(str).apply(lambda x: ''.join(re.findall(r'\\d+', str(x))) if pd.notna(x) else '')\n",
    "marketing['duration1']=number_extract(marketing['duration'])\n",
    "marketing['duration1']=marketing['duration1'].astype(float)\n",
    "# end_time = time.time()\n",
    "# execution_time = end_time-start_time\n",
    "# execution_time"
   ]
  },
  {
   "cell_type": "code",
   "execution_count": 162,
   "id": "72cf5b7e-31d8-4b3b-910f-7a4a028f7751",
   "metadata": {},
   "outputs": [
    {
     "data": {
      "text/plain": [
       "0                     261 sec\n",
       "1                     151 sec\n",
       "2                      76 sec\n",
       "3                      92 sec\n",
       "4                     198 sec\n",
       "                 ...         \n",
       "45206    16.2833333333333 min\n",
       "45207                 7.6 min\n",
       "45208    18.7833333333333 min\n",
       "45209    8.46666666666667 min\n",
       "45210    6.01666666666667 min\n",
       "Name: duration, Length: 45211, dtype: object"
      ]
     },
     "execution_count": 162,
     "metadata": {},
     "output_type": "execute_result"
    }
   ],
   "source": [
    "marketing['duration']"
   ]
  },
  {
   "cell_type": "code",
   "execution_count": null,
   "id": "abbb7744-e035-49ae-b64f-466a6236db62",
   "metadata": {},
   "outputs": [],
   "source": []
  },
  {
   "cell_type": "code",
   "execution_count": 161,
   "id": "8028e807-1ca4-42ae-b96a-a50a8009b3c2",
   "metadata": {},
   "outputs": [
    {
     "data": {
      "text/html": [
       "<div>\n",
       "<style scoped>\n",
       "    .dataframe tbody tr th:only-of-type {\n",
       "        vertical-align: middle;\n",
       "    }\n",
       "\n",
       "    .dataframe tbody tr th {\n",
       "        vertical-align: top;\n",
       "    }\n",
       "\n",
       "    .dataframe thead th {\n",
       "        text-align: right;\n",
       "    }\n",
       "</style>\n",
       "<table border=\"1\" class=\"dataframe\">\n",
       "  <thead>\n",
       "    <tr style=\"text-align: right;\">\n",
       "      <th></th>\n",
       "      <th>age</th>\n",
       "      <th>salary</th>\n",
       "      <th>balance</th>\n",
       "      <th>marital</th>\n",
       "      <th>targeted</th>\n",
       "      <th>default</th>\n",
       "      <th>housing</th>\n",
       "      <th>loan</th>\n",
       "      <th>contact</th>\n",
       "      <th>day</th>\n",
       "      <th>...</th>\n",
       "      <th>campaign</th>\n",
       "      <th>pdays</th>\n",
       "      <th>previous</th>\n",
       "      <th>poutcome</th>\n",
       "      <th>response</th>\n",
       "      <th>job</th>\n",
       "      <th>education</th>\n",
       "      <th>new_age</th>\n",
       "      <th>response_flag</th>\n",
       "      <th>duration1</th>\n",
       "    </tr>\n",
       "  </thead>\n",
       "  <tbody>\n",
       "    <tr>\n",
       "      <th>0</th>\n",
       "      <td>58.0</td>\n",
       "      <td>100000</td>\n",
       "      <td>2143.0</td>\n",
       "      <td>married</td>\n",
       "      <td>yes</td>\n",
       "      <td>no</td>\n",
       "      <td>yes</td>\n",
       "      <td>no</td>\n",
       "      <td>unknown</td>\n",
       "      <td>5</td>\n",
       "      <td>...</td>\n",
       "      <td>1.0</td>\n",
       "      <td>NaN</td>\n",
       "      <td>0.0</td>\n",
       "      <td>unknown</td>\n",
       "      <td>no</td>\n",
       "      <td>management</td>\n",
       "      <td>tertiary</td>\n",
       "      <td>1.648463</td>\n",
       "      <td>0</td>\n",
       "      <td>2.610000e+02</td>\n",
       "    </tr>\n",
       "    <tr>\n",
       "      <th>1</th>\n",
       "      <td>44.0</td>\n",
       "      <td>60000</td>\n",
       "      <td>29.0</td>\n",
       "      <td>single</td>\n",
       "      <td>yes</td>\n",
       "      <td>no</td>\n",
       "      <td>yes</td>\n",
       "      <td>no</td>\n",
       "      <td>unknown</td>\n",
       "      <td>5</td>\n",
       "      <td>...</td>\n",
       "      <td>1.0</td>\n",
       "      <td>NaN</td>\n",
       "      <td>0.0</td>\n",
       "      <td>unknown</td>\n",
       "      <td>no</td>\n",
       "      <td>technician</td>\n",
       "      <td>secondary</td>\n",
       "      <td>0.301395</td>\n",
       "      <td>0</td>\n",
       "      <td>1.510000e+02</td>\n",
       "    </tr>\n",
       "    <tr>\n",
       "      <th>2</th>\n",
       "      <td>33.0</td>\n",
       "      <td>120000</td>\n",
       "      <td>2.0</td>\n",
       "      <td>married</td>\n",
       "      <td>yes</td>\n",
       "      <td>no</td>\n",
       "      <td>yes</td>\n",
       "      <td>yes</td>\n",
       "      <td>unknown</td>\n",
       "      <td>5</td>\n",
       "      <td>...</td>\n",
       "      <td>1.0</td>\n",
       "      <td>NaN</td>\n",
       "      <td>0.0</td>\n",
       "      <td>unknown</td>\n",
       "      <td>no</td>\n",
       "      <td>entrepreneur</td>\n",
       "      <td>secondary</td>\n",
       "      <td>-0.757017</td>\n",
       "      <td>0</td>\n",
       "      <td>7.600000e+01</td>\n",
       "    </tr>\n",
       "    <tr>\n",
       "      <th>3</th>\n",
       "      <td>47.0</td>\n",
       "      <td>20000</td>\n",
       "      <td>1506.0</td>\n",
       "      <td>married</td>\n",
       "      <td>no</td>\n",
       "      <td>no</td>\n",
       "      <td>yes</td>\n",
       "      <td>no</td>\n",
       "      <td>unknown</td>\n",
       "      <td>5</td>\n",
       "      <td>...</td>\n",
       "      <td>1.0</td>\n",
       "      <td>NaN</td>\n",
       "      <td>0.0</td>\n",
       "      <td>unknown</td>\n",
       "      <td>no</td>\n",
       "      <td>blue-collar</td>\n",
       "      <td>unknown</td>\n",
       "      <td>0.590052</td>\n",
       "      <td>0</td>\n",
       "      <td>9.200000e+01</td>\n",
       "    </tr>\n",
       "    <tr>\n",
       "      <th>4</th>\n",
       "      <td>33.0</td>\n",
       "      <td>0</td>\n",
       "      <td>1.0</td>\n",
       "      <td>single</td>\n",
       "      <td>no</td>\n",
       "      <td>no</td>\n",
       "      <td>no</td>\n",
       "      <td>no</td>\n",
       "      <td>unknown</td>\n",
       "      <td>5</td>\n",
       "      <td>...</td>\n",
       "      <td>1.0</td>\n",
       "      <td>NaN</td>\n",
       "      <td>0.0</td>\n",
       "      <td>unknown</td>\n",
       "      <td>no</td>\n",
       "      <td>unknown</td>\n",
       "      <td>unknown</td>\n",
       "      <td>-0.757017</td>\n",
       "      <td>0</td>\n",
       "      <td>1.980000e+02</td>\n",
       "    </tr>\n",
       "    <tr>\n",
       "      <th>...</th>\n",
       "      <td>...</td>\n",
       "      <td>...</td>\n",
       "      <td>...</td>\n",
       "      <td>...</td>\n",
       "      <td>...</td>\n",
       "      <td>...</td>\n",
       "      <td>...</td>\n",
       "      <td>...</td>\n",
       "      <td>...</td>\n",
       "      <td>...</td>\n",
       "      <td>...</td>\n",
       "      <td>...</td>\n",
       "      <td>...</td>\n",
       "      <td>...</td>\n",
       "      <td>...</td>\n",
       "      <td>...</td>\n",
       "      <td>...</td>\n",
       "      <td>...</td>\n",
       "      <td>...</td>\n",
       "      <td>...</td>\n",
       "      <td>...</td>\n",
       "    </tr>\n",
       "    <tr>\n",
       "      <th>45206</th>\n",
       "      <td>51.0</td>\n",
       "      <td>60000</td>\n",
       "      <td>825.0</td>\n",
       "      <td>married</td>\n",
       "      <td>yes</td>\n",
       "      <td>no</td>\n",
       "      <td>no</td>\n",
       "      <td>no</td>\n",
       "      <td>cellular</td>\n",
       "      <td>17</td>\n",
       "      <td>...</td>\n",
       "      <td>3.0</td>\n",
       "      <td>NaN</td>\n",
       "      <td>0.0</td>\n",
       "      <td>unknown</td>\n",
       "      <td>yes</td>\n",
       "      <td>technician</td>\n",
       "      <td>tertiary</td>\n",
       "      <td>0.974929</td>\n",
       "      <td>1</td>\n",
       "      <td>1.628333e+14</td>\n",
       "    </tr>\n",
       "    <tr>\n",
       "      <th>45207</th>\n",
       "      <td>70.5</td>\n",
       "      <td>55000</td>\n",
       "      <td>1729.0</td>\n",
       "      <td>divorced</td>\n",
       "      <td>yes</td>\n",
       "      <td>no</td>\n",
       "      <td>no</td>\n",
       "      <td>no</td>\n",
       "      <td>cellular</td>\n",
       "      <td>17</td>\n",
       "      <td>...</td>\n",
       "      <td>2.0</td>\n",
       "      <td>NaN</td>\n",
       "      <td>0.0</td>\n",
       "      <td>unknown</td>\n",
       "      <td>yes</td>\n",
       "      <td>retired</td>\n",
       "      <td>primary</td>\n",
       "      <td>2.851203</td>\n",
       "      <td>1</td>\n",
       "      <td>7.600000e+01</td>\n",
       "    </tr>\n",
       "    <tr>\n",
       "      <th>45208</th>\n",
       "      <td>70.5</td>\n",
       "      <td>55000</td>\n",
       "      <td>3462.0</td>\n",
       "      <td>married</td>\n",
       "      <td>yes</td>\n",
       "      <td>no</td>\n",
       "      <td>no</td>\n",
       "      <td>no</td>\n",
       "      <td>cellular</td>\n",
       "      <td>17</td>\n",
       "      <td>...</td>\n",
       "      <td>5.0</td>\n",
       "      <td>184.0</td>\n",
       "      <td>0.0</td>\n",
       "      <td>success</td>\n",
       "      <td>yes</td>\n",
       "      <td>retired</td>\n",
       "      <td>secondary</td>\n",
       "      <td>2.851203</td>\n",
       "      <td>1</td>\n",
       "      <td>1.878333e+14</td>\n",
       "    </tr>\n",
       "    <tr>\n",
       "      <th>45209</th>\n",
       "      <td>57.0</td>\n",
       "      <td>20000</td>\n",
       "      <td>668.0</td>\n",
       "      <td>married</td>\n",
       "      <td>yes</td>\n",
       "      <td>no</td>\n",
       "      <td>no</td>\n",
       "      <td>no</td>\n",
       "      <td>telephone</td>\n",
       "      <td>17</td>\n",
       "      <td>...</td>\n",
       "      <td>4.0</td>\n",
       "      <td>NaN</td>\n",
       "      <td>0.0</td>\n",
       "      <td>unknown</td>\n",
       "      <td>no</td>\n",
       "      <td>blue-collar</td>\n",
       "      <td>secondary</td>\n",
       "      <td>1.552244</td>\n",
       "      <td>0</td>\n",
       "      <td>8.466667e+14</td>\n",
       "    </tr>\n",
       "    <tr>\n",
       "      <th>45210</th>\n",
       "      <td>37.0</td>\n",
       "      <td>120000</td>\n",
       "      <td>2971.0</td>\n",
       "      <td>married</td>\n",
       "      <td>yes</td>\n",
       "      <td>no</td>\n",
       "      <td>no</td>\n",
       "      <td>no</td>\n",
       "      <td>cellular</td>\n",
       "      <td>17</td>\n",
       "      <td>...</td>\n",
       "      <td>2.0</td>\n",
       "      <td>188.0</td>\n",
       "      <td>0.0</td>\n",
       "      <td>other</td>\n",
       "      <td>no</td>\n",
       "      <td>entrepreneur</td>\n",
       "      <td>secondary</td>\n",
       "      <td>-0.372140</td>\n",
       "      <td>0</td>\n",
       "      <td>6.016667e+14</td>\n",
       "    </tr>\n",
       "  </tbody>\n",
       "</table>\n",
       "<p>45211 rows × 22 columns</p>\n",
       "</div>"
      ],
      "text/plain": [
       "        age  salary  balance   marital targeted default housing loan  \\\n",
       "0      58.0  100000   2143.0   married      yes      no     yes   no   \n",
       "1      44.0   60000     29.0    single      yes      no     yes   no   \n",
       "2      33.0  120000      2.0   married      yes      no     yes  yes   \n",
       "3      47.0   20000   1506.0   married       no      no     yes   no   \n",
       "4      33.0       0      1.0    single       no      no      no   no   \n",
       "...     ...     ...      ...       ...      ...     ...     ...  ...   \n",
       "45206  51.0   60000    825.0   married      yes      no      no   no   \n",
       "45207  70.5   55000   1729.0  divorced      yes      no      no   no   \n",
       "45208  70.5   55000   3462.0   married      yes      no      no   no   \n",
       "45209  57.0   20000    668.0   married      yes      no      no   no   \n",
       "45210  37.0  120000   2971.0   married      yes      no      no   no   \n",
       "\n",
       "         contact  day  ... campaign  pdays  previous  poutcome  response  \\\n",
       "0        unknown    5  ...      1.0    NaN       0.0   unknown        no   \n",
       "1        unknown    5  ...      1.0    NaN       0.0   unknown        no   \n",
       "2        unknown    5  ...      1.0    NaN       0.0   unknown        no   \n",
       "3        unknown    5  ...      1.0    NaN       0.0   unknown        no   \n",
       "4        unknown    5  ...      1.0    NaN       0.0   unknown        no   \n",
       "...          ...  ...  ...      ...    ...       ...       ...       ...   \n",
       "45206   cellular   17  ...      3.0    NaN       0.0   unknown       yes   \n",
       "45207   cellular   17  ...      2.0    NaN       0.0   unknown       yes   \n",
       "45208   cellular   17  ...      5.0  184.0       0.0   success       yes   \n",
       "45209  telephone   17  ...      4.0    NaN       0.0   unknown        no   \n",
       "45210   cellular   17  ...      2.0  188.0       0.0     other        no   \n",
       "\n",
       "                job  education   new_age response_flag     duration1  \n",
       "0        management   tertiary  1.648463             0  2.610000e+02  \n",
       "1        technician  secondary  0.301395             0  1.510000e+02  \n",
       "2      entrepreneur  secondary -0.757017             0  7.600000e+01  \n",
       "3       blue-collar    unknown  0.590052             0  9.200000e+01  \n",
       "4           unknown    unknown -0.757017             0  1.980000e+02  \n",
       "...             ...        ...       ...           ...           ...  \n",
       "45206    technician   tertiary  0.974929             1  1.628333e+14  \n",
       "45207       retired    primary  2.851203             1  7.600000e+01  \n",
       "45208       retired  secondary  2.851203             1  1.878333e+14  \n",
       "45209   blue-collar  secondary  1.552244             0  8.466667e+14  \n",
       "45210  entrepreneur  secondary -0.372140             0  6.016667e+14  \n",
       "\n",
       "[45211 rows x 22 columns]"
      ]
     },
     "execution_count": 161,
     "metadata": {},
     "output_type": "execute_result"
    }
   ],
   "source": [
    "marketing"
   ]
  },
  {
   "cell_type": "code",
   "execution_count": null,
   "id": "796b6038-1a28-4eb9-a542-3f2d93a0f4a6",
   "metadata": {},
   "outputs": [],
   "source": []
  },
  {
   "cell_type": "code",
   "execution_count": null,
   "id": "f5f72b11-a726-4fd9-9a36-5f2736dbeca9",
   "metadata": {},
   "outputs": [],
   "source": []
  },
  {
   "cell_type": "code",
   "execution_count": null,
   "id": "d715a2a9-7749-4c15-bd15-11b9e49601a0",
   "metadata": {},
   "outputs": [],
   "source": []
  },
  {
   "cell_type": "code",
   "execution_count": null,
   "id": "a76d0182-3a88-4c4d-88b8-0d0eb9cb076c",
   "metadata": {},
   "outputs": [],
   "source": []
  },
  {
   "cell_type": "code",
   "execution_count": null,
   "id": "d6dbcaa3-13e1-4004-b5ee-852fec5e0ce1",
   "metadata": {},
   "outputs": [],
   "source": []
  },
  {
   "cell_type": "code",
   "execution_count": null,
   "id": "cafe72c5-53d9-48c5-9976-b8383c178eb2",
   "metadata": {},
   "outputs": [],
   "source": []
  },
  {
   "cell_type": "code",
   "execution_count": null,
   "id": "5dccd23d-0e75-4e35-bd15-8092b920b01b",
   "metadata": {},
   "outputs": [],
   "source": []
  },
  {
   "cell_type": "code",
   "execution_count": null,
   "id": "526b825c-f869-45a3-a679-dccdd1e027bb",
   "metadata": {},
   "outputs": [],
   "source": []
  },
  {
   "cell_type": "code",
   "execution_count": null,
   "id": "6b6b3875-5165-43b5-9d51-0785ac0881dc",
   "metadata": {},
   "outputs": [],
   "source": []
  },
  {
   "cell_type": "code",
   "execution_count": null,
   "id": "c8de2352-65e7-4db6-84fd-1a8e8bc76665",
   "metadata": {},
   "outputs": [],
   "source": []
  },
  {
   "cell_type": "code",
   "execution_count": null,
   "id": "18d2c292-6678-434e-9893-8e127d9d57c7",
   "metadata": {},
   "outputs": [],
   "source": []
  },
  {
   "cell_type": "code",
   "execution_count": null,
   "id": "e665e332-ae4a-41cb-aa8d-2ba8a65dffa1",
   "metadata": {},
   "outputs": [],
   "source": []
  },
  {
   "cell_type": "code",
   "execution_count": null,
   "id": "c6cdaf88-4ad4-45a2-964d-06274ed03b4e",
   "metadata": {},
   "outputs": [],
   "source": []
  },
  {
   "cell_type": "code",
   "execution_count": null,
   "id": "daf46e67-cf03-499e-a7a4-e0e1bb3e7259",
   "metadata": {},
   "outputs": [],
   "source": []
  },
  {
   "cell_type": "code",
   "execution_count": null,
   "id": "263af87f-309f-46aa-8f8c-138250da5274",
   "metadata": {},
   "outputs": [],
   "source": []
  },
  {
   "cell_type": "code",
   "execution_count": null,
   "id": "e78fc4a3-9037-4da7-bca1-295d09b64f1a",
   "metadata": {},
   "outputs": [],
   "source": []
  },
  {
   "cell_type": "code",
   "execution_count": null,
   "id": "246b82af-9a4e-44a7-a8e2-d26cd60e81b4",
   "metadata": {},
   "outputs": [],
   "source": []
  },
  {
   "cell_type": "code",
   "execution_count": null,
   "id": "8e849842-976a-45a4-a327-668a3e50cfb9",
   "metadata": {},
   "outputs": [],
   "source": []
  },
  {
   "cell_type": "code",
   "execution_count": null,
   "id": "ac0198a5-a6e5-4dae-864b-8525d998082a",
   "metadata": {},
   "outputs": [],
   "source": []
  },
  {
   "cell_type": "code",
   "execution_count": null,
   "id": "08d3f1d6-7813-453a-b0ce-47b371d831a3",
   "metadata": {},
   "outputs": [],
   "source": []
  },
  {
   "cell_type": "code",
   "execution_count": null,
   "id": "a4e61b92-fc00-4e61-a4ec-0b13b090b583",
   "metadata": {},
   "outputs": [],
   "source": []
  },
  {
   "cell_type": "code",
   "execution_count": null,
   "id": "2e928f34-5171-4048-899e-4d1f45278eea",
   "metadata": {},
   "outputs": [],
   "source": []
  },
  {
   "cell_type": "code",
   "execution_count": null,
   "id": "f5726859-5e35-45d9-9eb7-8d97be9d6c44",
   "metadata": {},
   "outputs": [],
   "source": []
  },
  {
   "cell_type": "code",
   "execution_count": null,
   "id": "225345e8-8e23-40e6-9466-8dfe81442ddc",
   "metadata": {},
   "outputs": [],
   "source": []
  },
  {
   "cell_type": "code",
   "execution_count": null,
   "id": "a3a9466d-ee71-41e9-9d6c-d8f7c0f40eb6",
   "metadata": {},
   "outputs": [],
   "source": []
  },
  {
   "cell_type": "code",
   "execution_count": null,
   "id": "28a90ebc-2a6c-47c9-8483-ba716d31ad8c",
   "metadata": {},
   "outputs": [],
   "source": []
  },
  {
   "cell_type": "code",
   "execution_count": null,
   "id": "6cc3791c-942a-44a1-b2ba-4db1b7e91df6",
   "metadata": {},
   "outputs": [],
   "source": []
  },
  {
   "cell_type": "code",
   "execution_count": null,
   "id": "784e4357-2336-48bc-9883-439cdd889b20",
   "metadata": {},
   "outputs": [],
   "source": []
  },
  {
   "cell_type": "code",
   "execution_count": null,
   "id": "ae5f9c80-ac65-4098-9a1f-1edd192d4212",
   "metadata": {},
   "outputs": [],
   "source": []
  },
  {
   "cell_type": "code",
   "execution_count": null,
   "id": "009ea2d9-b81b-44a6-8c1c-df1757da6d70",
   "metadata": {},
   "outputs": [],
   "source": []
  },
  {
   "cell_type": "code",
   "execution_count": null,
   "id": "ed766dc0-f8f0-4ecf-8f11-e9f074fa0d25",
   "metadata": {},
   "outputs": [],
   "source": []
  },
  {
   "cell_type": "code",
   "execution_count": null,
   "id": "a14f9cc1-6da9-4312-8b16-4750de3e6361",
   "metadata": {},
   "outputs": [],
   "source": []
  },
  {
   "cell_type": "code",
   "execution_count": null,
   "id": "598ef497-b0dd-4b2f-a013-db66e4c3695c",
   "metadata": {},
   "outputs": [],
   "source": []
  },
  {
   "cell_type": "code",
   "execution_count": null,
   "id": "0085c1b8-56e2-479c-8907-126a91835700",
   "metadata": {},
   "outputs": [],
   "source": []
  },
  {
   "cell_type": "code",
   "execution_count": null,
   "id": "becf0833-0be4-45cf-b9e1-46e7aac5c7e2",
   "metadata": {},
   "outputs": [],
   "source": []
  },
  {
   "cell_type": "code",
   "execution_count": null,
   "id": "fa2f33f2-a5ae-413c-b8e2-6a7326fdf0e4",
   "metadata": {},
   "outputs": [],
   "source": []
  },
  {
   "cell_type": "code",
   "execution_count": null,
   "id": "1ac80392-85ce-45d8-ad4a-a41b18cab255",
   "metadata": {},
   "outputs": [],
   "source": []
  },
  {
   "cell_type": "code",
   "execution_count": null,
   "id": "dd06c481-23bc-4c93-99d4-9d9c1313194e",
   "metadata": {},
   "outputs": [],
   "source": []
  },
  {
   "cell_type": "code",
   "execution_count": null,
   "id": "72015ff9-b903-465e-847b-7c36f9e1b475",
   "metadata": {},
   "outputs": [],
   "source": []
  },
  {
   "cell_type": "code",
   "execution_count": null,
   "id": "c22c70c9-7554-46c6-b543-e4798d07267e",
   "metadata": {},
   "outputs": [],
   "source": []
  },
  {
   "cell_type": "code",
   "execution_count": null,
   "id": "4ecc7aae-df4b-4eba-a604-e69c8120c3ff",
   "metadata": {},
   "outputs": [],
   "source": []
  },
  {
   "cell_type": "code",
   "execution_count": null,
   "id": "8012cabc-80ac-44d6-87a4-05f51ffd1c4d",
   "metadata": {},
   "outputs": [],
   "source": []
  },
  {
   "cell_type": "code",
   "execution_count": 36,
   "id": "c48fe236-be06-44be-871d-b3152f754cab",
   "metadata": {},
   "outputs": [
    {
     "data": {
      "text/plain": [
       "age          float64\n",
       "salary         int64\n",
       "balance        int64\n",
       "marital       object\n",
       "targeted      object\n",
       "default       object\n",
       "housing       object\n",
       "loan          object\n",
       "contact       object\n",
       "day            int64\n",
       "month         object\n",
       "duration      object\n",
       "campaign       int64\n",
       "pdays          int64\n",
       "previous       int64\n",
       "poutcome      object\n",
       "response      object\n",
       "job           object\n",
       "education     object\n",
       "dtype: object"
      ]
     },
     "execution_count": 36,
     "metadata": {},
     "output_type": "execute_result"
    }
   ],
   "source": [
    "marketing.dtypes"
   ]
  },
  {
   "cell_type": "code",
   "execution_count": null,
   "id": "bf6e7fff-641b-44cd-b5dd-79359e74c340",
   "metadata": {},
   "outputs": [],
   "source": []
  },
  {
   "cell_type": "code",
   "execution_count": null,
   "id": "55def616-a986-49b0-8605-9dc0eda19c62",
   "metadata": {},
   "outputs": [],
   "source": []
  },
  {
   "cell_type": "code",
   "execution_count": null,
   "id": "751cbe04-1276-45f5-b762-b473633e95c3",
   "metadata": {},
   "outputs": [],
   "source": []
  },
  {
   "cell_type": "code",
   "execution_count": null,
   "id": "395ba4cc-796b-4a5b-a978-538fba7218a6",
   "metadata": {},
   "outputs": [],
   "source": []
  },
  {
   "cell_type": "code",
   "execution_count": null,
   "id": "f2767fc3-c891-4ab8-a592-a61dcc338bee",
   "metadata": {},
   "outputs": [],
   "source": []
  },
  {
   "cell_type": "code",
   "execution_count": null,
   "id": "25dfa5d1-c504-4258-b44a-9a1b2bcc3d5d",
   "metadata": {},
   "outputs": [],
   "source": []
  },
  {
   "cell_type": "code",
   "execution_count": null,
   "id": "25e1bc3d-432d-45f8-8e57-7802d36825bb",
   "metadata": {},
   "outputs": [],
   "source": []
  },
  {
   "cell_type": "code",
   "execution_count": null,
   "id": "7a96782d-6858-4e5d-95e3-cc3c36c8b341",
   "metadata": {},
   "outputs": [],
   "source": []
  },
  {
   "cell_type": "code",
   "execution_count": null,
   "id": "83866ab9-dd65-42e3-b75d-7bf1a8058951",
   "metadata": {},
   "outputs": [],
   "source": []
  },
  {
   "cell_type": "code",
   "execution_count": null,
   "id": "dec90f0b-c55e-4b03-babf-aab481bad338",
   "metadata": {},
   "outputs": [],
   "source": []
  }
 ],
 "metadata": {
  "kernelspec": {
   "display_name": "Python 3 (ipykernel)",
   "language": "python",
   "name": "python3"
  },
  "language_info": {
   "codemirror_mode": {
    "name": "ipython",
    "version": 3
   },
   "file_extension": ".py",
   "mimetype": "text/x-python",
   "name": "python",
   "nbconvert_exporter": "python",
   "pygments_lexer": "ipython3",
   "version": "3.12.3"
  }
 },
 "nbformat": 4,
 "nbformat_minor": 5
}
